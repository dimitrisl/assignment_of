{
 "cells": [
  {
   "cell_type": "code",
   "execution_count": 1,
   "id": "6f553ab5",
   "metadata": {},
   "outputs": [],
   "source": [
    "import pandas as pd\n",
    "import numpy as np\n",
    "from sklearn.metrics import f1_score\n",
    "from sklearn.metrics import confusion_matrix\n",
    "from sklearn.model_selection import train_test_split\n",
    "from xgboost import XGBClassifier\n",
    "from sklearn.preprocessing import OneHotEncoder\n",
    "from sklearn.preprocessing import LabelEncoder\n",
    "from collections import Counter\n",
    "from sklearn.feature_extraction.text import TfidfVectorizer, CountVectorizer\n",
    "from xgboost import XGBClassifier\n",
    "from sklearn.linear_model import LogisticRegression"
   ]
  },
  {
   "cell_type": "markdown",
   "id": "71c392fc",
   "metadata": {},
   "source": [
    "We provide the following dataset (ASSIGNMENT_2.csv):\n",
    "    \n",
    "| Composition title | Composition Writers | Recording Title | Recording Writes |Action |\n",
    "| --- | --- |--- | --- |--- |\n",
    "| Yellow submarine | Leo Ouha |Yellow submarine(remix) |Leo Ouha |Leo Ouha |ACCEPTED |\n",
    "| Shape of you | Ed Sheeran| Anaconda | Mick George | Roco Selto |Leo REJECTED |\n",
    "\n",
    "\n",
    "Train an ML/DL model for pair matching of compositions and recordings.\n",
    "Report and evaluate the results."
   ]
  },
  {
   "cell_type": "code",
   "execution_count": 2,
   "id": "cfa3208b",
   "metadata": {},
   "outputs": [],
   "source": [
    "input_dataset = pd.read_csv(\"dataset/ASSIGNMENT_2.csv\")"
   ]
  },
  {
   "cell_type": "code",
   "execution_count": 3,
   "id": "284ea1fa",
   "metadata": {},
   "outputs": [
    {
     "name": "stdout",
     "output_type": "stream",
     "text": [
      "['rejected' 'accepted' 'no decision' 'no_decision']\n"
     ]
    }
   ],
   "source": [
    "input_dataset = input_dataset.drop_duplicates().dropna()\n",
    "\n",
    "for col in list(input_dataset.columns):\n",
    "    input_dataset.loc[:, col] = input_dataset.loc[:, col].apply(lambda x: x.lower())\n",
    "\n",
    "print(input_dataset[\"Action\"].str.lower().unique())"
   ]
  },
  {
   "cell_type": "code",
   "execution_count": 4,
   "id": "3005a418",
   "metadata": {},
   "outputs": [],
   "source": [
    "input_dataset.loc[input_dataset[\"Action\"] == 'no decision', \"Action\"] = \"no_decision\""
   ]
  },
  {
   "cell_type": "code",
   "execution_count": 5,
   "id": "f81e37bb",
   "metadata": {},
   "outputs": [],
   "source": [
    "input_dataset = input_dataset.loc[input_dataset[\"Action\"]!=\"no_decision\", :]"
   ]
  },
  {
   "cell_type": "code",
   "execution_count": 6,
   "id": "43b685bb",
   "metadata": {},
   "outputs": [],
   "source": [
    "# input_dataset.dropna().drop_duplicates().shape"
   ]
  },
  {
   "cell_type": "code",
   "execution_count": 7,
   "id": "1319ef01",
   "metadata": {},
   "outputs": [],
   "source": [
    "# oe_style = OneHotEncoder()\n",
    "# oe_results = oe_style.fit_transform(input_dataset[[\"Action\"]])\n",
    "# oh_labels = pd.DataFrame(oe_results.toarray(), columns=oe_style.categories_)\n",
    "# oh_labels.sum()"
   ]
  },
  {
   "cell_type": "code",
   "execution_count": 8,
   "id": "1ba4a8d9",
   "metadata": {},
   "outputs": [
    {
     "name": "stdout",
     "output_type": "stream",
     "text": [
      "Counter({0: 1485, 1: 522})\n"
     ]
    }
   ],
   "source": [
    "labelizer = LabelEncoder()\n",
    "lb_res = labelizer.fit_transform(input_dataset.loc[:, \"Action\"])\n",
    "\n",
    "input_dataset.loc[:, \"Action\"]= lb_res\n",
    "print(Counter(input_dataset[\"Action\"]))"
   ]
  },
  {
   "cell_type": "code",
   "execution_count": 9,
   "id": "be7a892e",
   "metadata": {},
   "outputs": [],
   "source": [
    "# in this kind of task we have to keep stopwords and punctuation it is important on these kind of texts (just like sentiment analysis)"
   ]
  },
  {
   "cell_type": "code",
   "execution_count": 10,
   "id": "0c401672",
   "metadata": {},
   "outputs": [],
   "source": [
    "# For starters we need to create a baseline to beat. So we could do a first run with a simple logistic regression and\n",
    "# an XGBoost"
   ]
  },
  {
   "cell_type": "code",
   "execution_count": 11,
   "id": "8976be72",
   "metadata": {},
   "outputs": [
    {
     "data": {
      "text/html": [
       "<div>\n",
       "<style scoped>\n",
       "    .dataframe tbody tr th:only-of-type {\n",
       "        vertical-align: middle;\n",
       "    }\n",
       "\n",
       "    .dataframe tbody tr th {\n",
       "        vertical-align: top;\n",
       "    }\n",
       "\n",
       "    .dataframe thead th {\n",
       "        text-align: right;\n",
       "    }\n",
       "</style>\n",
       "<table border=\"1\" class=\"dataframe\">\n",
       "  <thead>\n",
       "    <tr style=\"text-align: right;\">\n",
       "      <th></th>\n",
       "      <th>Composition Title</th>\n",
       "      <th>Composition Writers</th>\n",
       "      <th>Recording Title</th>\n",
       "      <th>Recording Writers</th>\n",
       "      <th>Recording Artist</th>\n",
       "      <th>Action</th>\n",
       "    </tr>\n",
       "  </thead>\n",
       "  <tbody>\n",
       "    <tr>\n",
       "      <th>0</th>\n",
       "      <td>kokaina</td>\n",
       "      <td>yassine baybah|daniel dlouhy</td>\n",
       "      <td>kokaina</td>\n",
       "      <td>a baybah c dlouhy</td>\n",
       "      <td>miami yacine</td>\n",
       "      <td>1</td>\n",
       "    </tr>\n",
       "    <tr>\n",
       "      <th>1</th>\n",
       "      <td>por estar contigo</td>\n",
       "      <td>martinez escamilla,felipe de jesus</td>\n",
       "      <td>estar contigo</td>\n",
       "      <td>martinez de ubago rodriguez  alejandro</td>\n",
       "      <td>alex, jorge y lena</td>\n",
       "      <td>1</td>\n",
       "    </tr>\n",
       "  </tbody>\n",
       "</table>\n",
       "</div>"
      ],
      "text/plain": [
       "   Composition Title                 Composition Writers Recording Title  \\\n",
       "0            kokaina        yassine baybah|daniel dlouhy         kokaina   \n",
       "1  por estar contigo  martinez escamilla,felipe de jesus   estar contigo   \n",
       "\n",
       "                        Recording Writers    Recording Artist  Action  \n",
       "0                       a baybah c dlouhy        miami yacine       1  \n",
       "1  martinez de ubago rodriguez  alejandro  alex, jorge y lena       1  "
      ]
     },
     "execution_count": 11,
     "metadata": {},
     "output_type": "execute_result"
    }
   ],
   "source": [
    "input_dataset.head(2)"
   ]
  },
  {
   "cell_type": "markdown",
   "id": "4d351661",
   "metadata": {},
   "source": [
    "In order to run any kind of machine learning model, we need to transform the features into tf-idf vectors.\n",
    "\n",
    "If we had more data i would've trained embeddings from the dataset."
   ]
  },
  {
   "cell_type": "code",
   "execution_count": 12,
   "id": "bfe4d06e",
   "metadata": {},
   "outputs": [],
   "source": [
    "def vectorizer(dataset):\n",
    "    tfidf_vect = dict()\n",
    "    tfidf_wm = dict()\n",
    "    for col in dataset.columns:\n",
    "        tfidf_vect[col] = TfidfVectorizer(analyzer='word', stop_words=\"english\")\n",
    "        tfidf_wm[col] = tfidf_vect[col].fit_transform(dataset[col])\n",
    "    return tfidf_vect, tfidf_wm\n",
    "\n",
    "def infer_vector(dataset, tfidf_vect):\n",
    "    tfidf_wm = dict()\n",
    "    for col in dataset.columns:\n",
    "        tfidf_wm[col] = tfidf_vect[col].fit_transform(dataset[col])\n",
    "    return tfidf_wm"
   ]
  },
  {
   "cell_type": "code",
   "execution_count": 13,
   "id": "2be9356b",
   "metadata": {},
   "outputs": [],
   "source": [
    "feature_cols = list(input_dataset.loc[:, input_dataset.columns!=\"Action\"].columns)"
   ]
  },
  {
   "cell_type": "code",
   "execution_count": 14,
   "id": "4ea1d330",
   "metadata": {},
   "outputs": [
    {
     "data": {
      "text/html": [
       "<div>\n",
       "<style scoped>\n",
       "    .dataframe tbody tr th:only-of-type {\n",
       "        vertical-align: middle;\n",
       "    }\n",
       "\n",
       "    .dataframe tbody tr th {\n",
       "        vertical-align: top;\n",
       "    }\n",
       "\n",
       "    .dataframe thead th {\n",
       "        text-align: right;\n",
       "    }\n",
       "</style>\n",
       "<table border=\"1\" class=\"dataframe\">\n",
       "  <thead>\n",
       "    <tr style=\"text-align: right;\">\n",
       "      <th></th>\n",
       "      <th>Composition Title</th>\n",
       "      <th>Composition Writers</th>\n",
       "      <th>Recording Title</th>\n",
       "      <th>Recording Writers</th>\n",
       "      <th>Recording Artist</th>\n",
       "    </tr>\n",
       "  </thead>\n",
       "  <tbody>\n",
       "    <tr>\n",
       "      <th>count</th>\n",
       "      <td>2007</td>\n",
       "      <td>2007</td>\n",
       "      <td>2007</td>\n",
       "      <td>2007</td>\n",
       "      <td>2007</td>\n",
       "    </tr>\n",
       "    <tr>\n",
       "      <th>unique</th>\n",
       "      <td>1802</td>\n",
       "      <td>1835</td>\n",
       "      <td>1897</td>\n",
       "      <td>1812</td>\n",
       "      <td>1660</td>\n",
       "    </tr>\n",
       "    <tr>\n",
       "      <th>top</th>\n",
       "      <td>flower of scotland</td>\n",
       "      <td>roy murdoch buchanan williamson</td>\n",
       "      <td>flower of scotland</td>\n",
       "      <td>traditional</td>\n",
       "      <td>various artists</td>\n",
       "    </tr>\n",
       "    <tr>\n",
       "      <th>freq</th>\n",
       "      <td>9</td>\n",
       "      <td>9</td>\n",
       "      <td>9</td>\n",
       "      <td>13</td>\n",
       "      <td>9</td>\n",
       "    </tr>\n",
       "  </tbody>\n",
       "</table>\n",
       "</div>"
      ],
      "text/plain": [
       "         Composition Title              Composition Writers  \\\n",
       "count                 2007                             2007   \n",
       "unique                1802                             1835   \n",
       "top     flower of scotland  roy murdoch buchanan williamson   \n",
       "freq                     9                                9   \n",
       "\n",
       "           Recording Title Recording Writers Recording Artist  \n",
       "count                 2007              2007             2007  \n",
       "unique                1897              1812             1660  \n",
       "top     flower of scotland       traditional  various artists  \n",
       "freq                     9                13                9  "
      ]
     },
     "execution_count": 14,
     "metadata": {},
     "output_type": "execute_result"
    }
   ],
   "source": [
    "input_dataset.loc[:, feature_cols].describe()"
   ]
  },
  {
   "cell_type": "code",
   "execution_count": 15,
   "id": "fc72a47c",
   "metadata": {},
   "outputs": [],
   "source": [
    "lala = TfidfVectorizer(analyzer='word', stop_words=\"english\")\n"
   ]
  },
  {
   "cell_type": "code",
   "execution_count": 16,
   "id": "6a9c3bda",
   "metadata": {},
   "outputs": [],
   "source": [
    "input_dataset.loc[:, feature_cols[0]] =  input_dataset.loc[:, feature_cols[1:]].apply(lambda x: \",\".join(x), axis=1)"
   ]
  },
  {
   "cell_type": "code",
   "execution_count": 17,
   "id": "cd0103ef",
   "metadata": {},
   "outputs": [],
   "source": [
    "input_dataset = pd.DataFrame(input_dataset.loc[:, feature_cols[0]])"
   ]
  },
  {
   "cell_type": "code",
   "execution_count": 18,
   "id": "3c20fb00",
   "metadata": {},
   "outputs": [],
   "source": [
    "x1  = lala.fit_transform(input_dataset.iloc[:,0].tolist())"
   ]
  },
  {
   "cell_type": "code",
   "execution_count": 19,
   "id": "254c80d8",
   "metadata": {},
   "outputs": [
    {
     "data": {
      "text/plain": [
       "array([1, 1, 1, ..., 0, 0, 0])"
      ]
     },
     "execution_count": 19,
     "metadata": {},
     "output_type": "execute_result"
    }
   ],
   "source": [
    "lb_res"
   ]
  },
  {
   "cell_type": "code",
   "execution_count": 20,
   "id": "ce49a8e8",
   "metadata": {},
   "outputs": [],
   "source": [
    "X_train, X_test, y_train, y_test = train_test_split(x1, lb_res, shuffle=True, random_state=42, test_size=0.2)"
   ]
  },
  {
   "cell_type": "code",
   "execution_count": 21,
   "id": "76532c35",
   "metadata": {},
   "outputs": [
    {
     "name": "stderr",
     "output_type": "stream",
     "text": [
      "/home/dlolis/Desktop/assignment/assignment_of/lib/python3.8/site-packages/xgboost/sklearn.py:1146: UserWarning: The use of label encoder in XGBClassifier is deprecated and will be removed in a future release. To remove this warning, do the following: 1) Pass option use_label_encoder=False when constructing XGBClassifier object; and 2) Encode your labels (y) as integers starting with 0, i.e. 0, 1, 2, ..., [num_class - 1].\n",
      "  warnings.warn(label_encoder_deprecation_msg, UserWarning)\n"
     ]
    },
    {
     "name": "stdout",
     "output_type": "stream",
     "text": [
      "[18:16:13] WARNING: ../src/learner.cc:1095: Starting in XGBoost 1.3.0, the default evaluation metric used with the objective 'binary:logistic' was changed from 'error' to 'logloss'. Explicitly set eval_metric if you'd like to restore the old behavior.\n",
      "0.3176470588235294\n"
     ]
    }
   ],
   "source": [
    "model = XGBClassifier()\n",
    "\n",
    "model.fit(X_train, y_train)\n",
    "\n",
    "y_pred = model.predict(X_test)\n",
    "\n",
    "print(f1_score(y_pred, y_test))"
   ]
  },
  {
   "cell_type": "code",
   "execution_count": 22,
   "id": "32fc2a0a",
   "metadata": {},
   "outputs": [
    {
     "data": {
      "text/plain": [
       "array([[259,  89],\n",
       "       [ 27,  27]])"
      ]
     },
     "execution_count": 22,
     "metadata": {},
     "output_type": "execute_result"
    }
   ],
   "source": [
    "confusion_matrix(y_pred, y_test)"
   ]
  }
 ],
 "metadata": {
  "kernelspec": {
   "display_name": "Python 3",
   "language": "python",
   "name": "python3"
  },
  "language_info": {
   "codemirror_mode": {
    "name": "ipython",
    "version": 3
   },
   "file_extension": ".py",
   "mimetype": "text/x-python",
   "name": "python",
   "nbconvert_exporter": "python",
   "pygments_lexer": "ipython3",
   "version": "3.8.12"
  }
 },
 "nbformat": 4,
 "nbformat_minor": 5
}