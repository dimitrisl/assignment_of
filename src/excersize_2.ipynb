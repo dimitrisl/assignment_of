{
 "cells": [
  {
   "cell_type": "code",
   "execution_count": 1,
   "id": "6f553ab5",
   "metadata": {},
   "outputs": [],
   "source": [
    "import pandas as pd\n",
    "import numpy as np\n",
    "from sklearn.metrics import f1_score\n",
    "from sklearn.metrics import confusion_matrix\n",
    "from sklearn.model_selection import train_test_split\n",
    "from xgboost import XGBClassifier\n",
    "from sklearn.preprocessing import LabelEncoder\n",
    "from collections import Counter\n",
    "from sklearn.feature_extraction.text import TfidfVectorizer, CountVectorizer\n",
    "from xgboost import XGBClassifier\n",
    "from sklearn.linear_model import LogisticRegression\n",
    "import torch\n",
    "from sklearn.neural_network import MLPClassifier\n",
    "from sklearn.metrics import accuracy_score\n",
    "from sklearn.metrics import classification_report\n",
    "import matplotlib.pyplot as plt\n",
    "from sklearn.model_selection import learning_curve\n",
    "from sklearn.ensemble import RandomForestClassifier\n",
    "import string\n",
    "from scipy.sparse import csr_matrix\n",
    "from sklearn.decomposition import TruncatedSVD\n",
    "from models import main_cnn\n"
   ]
  },
  {
   "cell_type": "markdown",
   "id": "71c392fc",
   "metadata": {},
   "source": [
    "We provide the following dataset (ASSIGNMENT_2.csv):\n",
    "    \n",
    "| Composition title | Composition Writers | Recording Title | Recording Writes |Action |\n",
    "| --- | --- |--- | --- |--- |\n",
    "| Yellow submarine | Leo Ouha |Yellow submarine(remix) |Leo Ouha |Leo Ouha |ACCEPTED |\n",
    "| Shape of you | Ed Sheeran| Anaconda | Mick George | Roco Selto |Leo REJECTED |\n",
    "\n",
    "\n",
    "Train an ML/DL model for pair matching of compositions and recordings.\n",
    "Report and evaluate the results."
   ]
  },
  {
   "cell_type": "code",
   "execution_count": 2,
   "id": "da862de7",
   "metadata": {},
   "outputs": [],
   "source": [
    "import warnings\n",
    "warnings.filterwarnings(\"ignore\")"
   ]
  },
  {
   "cell_type": "code",
   "execution_count": 3,
   "id": "cfa3208b",
   "metadata": {},
   "outputs": [],
   "source": [
    "input_dataset = pd.read_csv(\"dataset/ASSIGNMENT_2.csv\")"
   ]
  },
  {
   "cell_type": "code",
   "execution_count": 4,
   "id": "039599c7",
   "metadata": {},
   "outputs": [
    {
     "name": "stdout",
     "output_type": "stream",
     "text": [
      "['rejected' 'accepted' 'no decision' 'no_decision']\n"
     ]
    }
   ],
   "source": [
    "input_dataset = input_dataset.drop_duplicates().dropna()\n",
    "\n",
    "for col in list(input_dataset.columns):\n",
    "    input_dataset.loc[:, col] = input_dataset.loc[:, col].apply(lambda x: x.lower())\n",
    "\n",
    "print(input_dataset[\"Action\"].str.lower().unique())"
   ]
  },
  {
   "cell_type": "code",
   "execution_count": 5,
   "id": "35b325cd",
   "metadata": {},
   "outputs": [],
   "source": [
    "input_dataset.loc[input_dataset[\"Action\"] == 'no decision', \"Action\"] = \"no_decision\""
   ]
  },
  {
   "cell_type": "code",
   "execution_count": 6,
   "id": "ac5fa250",
   "metadata": {},
   "outputs": [],
   "source": [
    "input_dataset = input_dataset.loc[input_dataset[\"Action\"]!=\"no_decision\", :]\n",
    "# we drop the rows with \"no decision\" label since they don't offer us any information \n",
    "# wether we have a match or not."
   ]
  },
  {
   "cell_type": "code",
   "execution_count": 7,
   "id": "83a00a5a",
   "metadata": {},
   "outputs": [],
   "source": [
    "# input_dataset.dropna().drop_duplicates().shape"
   ]
  },
  {
   "cell_type": "code",
   "execution_count": 8,
   "id": "e358b9f0",
   "metadata": {},
   "outputs": [
    {
     "name": "stdout",
     "output_type": "stream",
     "text": [
      "Counter({0: 1485, 1: 522})\n"
     ]
    }
   ],
   "source": [
    "labelizer = LabelEncoder()\n",
    "lb_res = labelizer.fit_transform(input_dataset.loc[:, \"Action\"])\n",
    "\n",
    "input_dataset.loc[:, \"Action\"]= lb_res\n",
    "print(Counter(input_dataset[\"Action\"]))"
   ]
  },
  {
   "cell_type": "markdown",
   "id": "239eb29d",
   "metadata": {},
   "source": [
    "In this kind of task we have to keep stopwords and punctuation it is important on these kind of texts (just like sentiment analysis)"
   ]
  },
  {
   "cell_type": "markdown",
   "id": "06958870",
   "metadata": {},
   "source": [
    "For starters we need to create a baseline to beat. So we could do a first run with a simple logistic regression and\n",
    "an XGBoost"
   ]
  },
  {
   "cell_type": "code",
   "execution_count": 9,
   "id": "6eeb372a",
   "metadata": {},
   "outputs": [
    {
     "data": {
      "text/html": [
       "<div>\n",
       "<style scoped>\n",
       "    .dataframe tbody tr th:only-of-type {\n",
       "        vertical-align: middle;\n",
       "    }\n",
       "\n",
       "    .dataframe tbody tr th {\n",
       "        vertical-align: top;\n",
       "    }\n",
       "\n",
       "    .dataframe thead th {\n",
       "        text-align: right;\n",
       "    }\n",
       "</style>\n",
       "<table border=\"1\" class=\"dataframe\">\n",
       "  <thead>\n",
       "    <tr style=\"text-align: right;\">\n",
       "      <th></th>\n",
       "      <th>Composition Title</th>\n",
       "      <th>Composition Writers</th>\n",
       "      <th>Recording Title</th>\n",
       "      <th>Recording Writers</th>\n",
       "      <th>Recording Artist</th>\n",
       "      <th>Action</th>\n",
       "    </tr>\n",
       "  </thead>\n",
       "  <tbody>\n",
       "    <tr>\n",
       "      <th>0</th>\n",
       "      <td>kokaina</td>\n",
       "      <td>yassine baybah|daniel dlouhy</td>\n",
       "      <td>kokaina</td>\n",
       "      <td>a baybah c dlouhy</td>\n",
       "      <td>miami yacine</td>\n",
       "      <td>1</td>\n",
       "    </tr>\n",
       "    <tr>\n",
       "      <th>1</th>\n",
       "      <td>por estar contigo</td>\n",
       "      <td>martinez escamilla,felipe de jesus</td>\n",
       "      <td>estar contigo</td>\n",
       "      <td>martinez de ubago rodriguez  alejandro</td>\n",
       "      <td>alex, jorge y lena</td>\n",
       "      <td>1</td>\n",
       "    </tr>\n",
       "  </tbody>\n",
       "</table>\n",
       "</div>"
      ],
      "text/plain": [
       "   Composition Title                 Composition Writers Recording Title  \\\n",
       "0            kokaina        yassine baybah|daniel dlouhy         kokaina   \n",
       "1  por estar contigo  martinez escamilla,felipe de jesus   estar contigo   \n",
       "\n",
       "                        Recording Writers    Recording Artist  Action  \n",
       "0                       a baybah c dlouhy        miami yacine       1  \n",
       "1  martinez de ubago rodriguez  alejandro  alex, jorge y lena       1  "
      ]
     },
     "execution_count": 9,
     "metadata": {},
     "output_type": "execute_result"
    }
   ],
   "source": [
    "input_dataset.head(2)"
   ]
  },
  {
   "cell_type": "markdown",
   "id": "e0aba437",
   "metadata": {},
   "source": [
    "In order to run any kind of machine learning model, we need to transform the features into tf-idf vectors.\n",
    "\n",
    "If we had more data i would've trained embeddings from the dataset."
   ]
  },
  {
   "cell_type": "code",
   "execution_count": 10,
   "id": "ec65d100",
   "metadata": {},
   "outputs": [],
   "source": [
    "feature_cols = list(input_dataset.loc[:, input_dataset.columns!=\"Action\"].columns)"
   ]
  },
  {
   "cell_type": "code",
   "execution_count": 11,
   "id": "8d6742f5",
   "metadata": {},
   "outputs": [
    {
     "data": {
      "text/html": [
       "<div>\n",
       "<style scoped>\n",
       "    .dataframe tbody tr th:only-of-type {\n",
       "        vertical-align: middle;\n",
       "    }\n",
       "\n",
       "    .dataframe tbody tr th {\n",
       "        vertical-align: top;\n",
       "    }\n",
       "\n",
       "    .dataframe thead th {\n",
       "        text-align: right;\n",
       "    }\n",
       "</style>\n",
       "<table border=\"1\" class=\"dataframe\">\n",
       "  <thead>\n",
       "    <tr style=\"text-align: right;\">\n",
       "      <th></th>\n",
       "      <th>Composition Title</th>\n",
       "      <th>Composition Writers</th>\n",
       "      <th>Recording Title</th>\n",
       "      <th>Recording Writers</th>\n",
       "      <th>Recording Artist</th>\n",
       "    </tr>\n",
       "  </thead>\n",
       "  <tbody>\n",
       "    <tr>\n",
       "      <th>count</th>\n",
       "      <td>2007</td>\n",
       "      <td>2007</td>\n",
       "      <td>2007</td>\n",
       "      <td>2007</td>\n",
       "      <td>2007</td>\n",
       "    </tr>\n",
       "    <tr>\n",
       "      <th>unique</th>\n",
       "      <td>1802</td>\n",
       "      <td>1835</td>\n",
       "      <td>1897</td>\n",
       "      <td>1812</td>\n",
       "      <td>1660</td>\n",
       "    </tr>\n",
       "    <tr>\n",
       "      <th>top</th>\n",
       "      <td>flower of scotland</td>\n",
       "      <td>roy murdoch buchanan williamson</td>\n",
       "      <td>flower of scotland</td>\n",
       "      <td>traditional</td>\n",
       "      <td>various artists</td>\n",
       "    </tr>\n",
       "    <tr>\n",
       "      <th>freq</th>\n",
       "      <td>9</td>\n",
       "      <td>9</td>\n",
       "      <td>9</td>\n",
       "      <td>13</td>\n",
       "      <td>9</td>\n",
       "    </tr>\n",
       "  </tbody>\n",
       "</table>\n",
       "</div>"
      ],
      "text/plain": [
       "         Composition Title              Composition Writers  \\\n",
       "count                 2007                             2007   \n",
       "unique                1802                             1835   \n",
       "top     flower of scotland  roy murdoch buchanan williamson   \n",
       "freq                     9                                9   \n",
       "\n",
       "           Recording Title Recording Writers Recording Artist  \n",
       "count                 2007              2007             2007  \n",
       "unique                1897              1812             1660  \n",
       "top     flower of scotland       traditional  various artists  \n",
       "freq                     9                13                9  "
      ]
     },
     "execution_count": 11,
     "metadata": {},
     "output_type": "execute_result"
    }
   ],
   "source": [
    "input_dataset.loc[:, feature_cols].describe()"
   ]
  },
  {
   "cell_type": "code",
   "execution_count": 12,
   "id": "e8b07bd1",
   "metadata": {},
   "outputs": [],
   "source": [
    "# we want to remove punctuation since we know that when we concatenate the dataset and make all the features into sentences\n",
    "# the punctuation wont matter anymore. Since it is not important for our matching purposes"
   ]
  },
  {
   "cell_type": "code",
   "execution_count": 13,
   "id": "523dcaef",
   "metadata": {},
   "outputs": [],
   "source": [
    "for col in input_dataset.columns:\n",
    "    if col!=\"Action\":\n",
    "        input_dataset.loc[:, col] = input_dataset.loc[:, col].apply(lambda x: x.translate(str.maketrans('', '', string.punctuation)))"
   ]
  },
  {
   "cell_type": "code",
   "execution_count": 14,
   "id": "1dde2068",
   "metadata": {},
   "outputs": [],
   "source": [
    "vectorizer = TfidfVectorizer(analyzer='word')\n",
    "\n",
    "input_dataset.loc[:, feature_cols[0]] =  input_dataset.loc[:, feature_cols[1:]].apply(lambda x: \",\".join(x), axis=1)\n",
    "\n",
    "input_dataset = pd.DataFrame(input_dataset.loc[:, feature_cols[0]])"
   ]
  },
  {
   "cell_type": "markdown",
   "id": "dffba800",
   "metadata": {},
   "source": [
    "Train test split and tf-idf vectorization "
   ]
  },
  {
   "cell_type": "code",
   "execution_count": 15,
   "id": "ce49a8e8",
   "metadata": {},
   "outputs": [],
   "source": [
    "X_train, X_test, y_train, y_test = train_test_split(input_dataset, lb_res, shuffle=True, random_state=42, test_size=0.2)\n",
    "\n",
    "X_train  = vectorizer.fit_transform(X_train.iloc[:,0])\n",
    "X_test = vectorizer.transform(X_test.iloc[:, 0])"
   ]
  },
  {
   "cell_type": "code",
   "execution_count": 16,
   "id": "00d869ce",
   "metadata": {},
   "outputs": [],
   "source": [
    "X_train = csr_matrix(X_train)\n",
    "svd = TruncatedSVD(n_components=20, n_iter=7, random_state=42)\n",
    "X_train = svd.fit_transform(X_train)\n",
    "\n",
    "X_test = csr_matrix(X_test)\n",
    "svd = TruncatedSVD(n_components=20, n_iter=7, random_state=42)\n",
    "X_test = svd.fit_transform(X_test)"
   ]
  },
  {
   "cell_type": "markdown",
   "id": "75a2d141",
   "metadata": {},
   "source": [
    "The application of SVD was important here since the sparsity of those matrices \n",
    "was substancial."
   ]
  },
  {
   "cell_type": "code",
   "execution_count": 17,
   "id": "aa0452f5",
   "metadata": {},
   "outputs": [],
   "source": [
    "def plot_learning_curve(estimator, title, X, y, ylim=None, cv=None,\n",
    "                        n_jobs=1, train_sizes=np.linspace(.1, 1.0, 10), scoring='f1_macro'):\n",
    "    plt.figure()\n",
    "    plt.title(title)\n",
    "    if ylim is not None:\n",
    "        plt.ylim(*ylim)\n",
    "    plt.xlabel(\"Training examples\")\n",
    "    plt.ylabel(\"Score\")\n",
    "    train_sizes, train_scores, test_scores = learning_curve(\n",
    "        estimator, X, y, cv=cv, n_jobs=n_jobs, train_sizes=train_sizes,\n",
    "        scoring=scoring)\n",
    "    train_scores_mean = np.mean(train_scores, axis=1)\n",
    "    train_scores_std = np.std(train_scores, axis=1)\n",
    "    test_scores_mean = np.mean(test_scores, axis=1)\n",
    "    test_scores_std = np.std(test_scores, axis=1)\n",
    "    plt.grid()\n",
    "\n",
    "    plt.fill_between(train_sizes, train_scores_mean - train_scores_std,\n",
    "                     train_scores_mean + train_scores_std, alpha=0.1,\n",
    "                     color=\"r\")\n",
    "    plt.fill_between(train_sizes, test_scores_mean - test_scores_std,\n",
    "                     test_scores_mean + test_scores_std, alpha=0.1, color=\"g\")\n",
    "    plt.plot(train_sizes, train_scores_mean, 'o-', color=\"r\",\n",
    "             label=\"Training score\")\n",
    "    plt.plot(train_sizes, test_scores_mean, 'o-', color=\"g\",\n",
    "             label=\"Cross-validation score\")\n",
    "\n",
    "    plt.legend(loc=\"best\")\n",
    "    return plt\n"
   ]
  },
  {
   "cell_type": "code",
   "execution_count": 18,
   "id": "455043e0",
   "metadata": {},
   "outputs": [],
   "source": [
    "def get_results(ftt, f_test_t, y_tn, y_ts, classifier):\n",
    "    print(\"value\")\n",
    "    # train the model\n",
    "    classifier.fit(ftt, y_tn)\n",
    "    print(\"classifier accuracy {:.2f}%\".format(classifier.score(f_test_t, y_ts) * 100))\n",
    "    # even though ACCURACY IS NOT A RELIABLE METRIC HERE we have to include it in our sets of metrics.\n",
    "    labels = classifier.predict(f_test_t)\n",
    "    actual = y_ts\n",
    "    predicted = labels\n",
    "    results = confusion_matrix(actual, predicted)\n",
    "    print('Confusion Matrix :')\n",
    "    print(results)\n",
    "    print('Accuracy Score :', accuracy_score(actual, predicted))\n",
    "    print('Report : ')\n",
    "    print(classification_report(actual, predicted))\n",
    "    score_2 = f1_score(actual, predicted, average='macro')\n",
    "    print('F-Measure: %.3f' % score_2)\n",
    "    return classifier"
   ]
  },
  {
   "cell_type": "markdown",
   "id": "d6b9f4f2",
   "metadata": {},
   "source": [
    "In order to proceed with more sofisticated solutions we need to enstablish a baseline first.\n",
    "\n",
    "The linear Regression is a good start for that purpose"
   ]
  },
  {
   "cell_type": "markdown",
   "id": "cfa571a6",
   "metadata": {},
   "source": [
    "Using a Linear Regression"
   ]
  },
  {
   "cell_type": "code",
   "execution_count": 19,
   "id": "8ed90e09",
   "metadata": {},
   "outputs": [],
   "source": [
    "cv = 3\n",
    "\n",
    "# apply 3 fold cross validation to make sure are models are reliable (cv is set to 3 in order to be faster)"
   ]
  },
  {
   "cell_type": "code",
   "execution_count": 20,
   "id": "5cf513e8",
   "metadata": {},
   "outputs": [
    {
     "name": "stdout",
     "output_type": "stream",
     "text": [
      "value\n",
      "classifier accuracy 71.39%\n",
      "Confusion Matrix :\n",
      "[[285   1]\n",
      " [114   2]]\n",
      "Accuracy Score : 0.7139303482587065\n",
      "Report : \n",
      "              precision    recall  f1-score   support\n",
      "\n",
      "           0       0.71      1.00      0.83       286\n",
      "           1       0.67      0.02      0.03       116\n",
      "\n",
      "    accuracy                           0.71       402\n",
      "   macro avg       0.69      0.51      0.43       402\n",
      "weighted avg       0.70      0.71      0.60       402\n",
      "\n",
      "F-Measure: 0.433\n"
     ]
    },
    {
     "data": {
      "image/png": "[encoded data removed]",
      "text/plain": [
       "<Figure size 432x288 with 1 Axes>"
      ]
     },
     "metadata": {
      "needs_background": "light"
     },
     "output_type": "display_data"
    }
   ],
   "source": [
    "model = LogisticRegression(random_state=42)\n",
    "\n",
    "model = get_results(X_train, X_test,y_train, y_test, model)\n",
    "plotter = plot_learning_curve(model, \"%s\"%type(model).__name__, X_test, y_test, (0.1, 1.01), cv=cv, n_jobs=-1)\n",
    "plotter.show()"
   ]
  },
  {
   "cell_type": "code",
   "execution_count": 21,
   "id": "9397ac64",
   "metadata": {},
   "outputs": [
    {
     "name": "stdout",
     "output_type": "stream",
     "text": [
      "value\n",
      "classifier accuracy 71.64%\n",
      "Confusion Matrix :\n",
      "[[253  33]\n",
      " [ 81  35]]\n",
      "Accuracy Score : 0.7164179104477612\n",
      "Report : \n",
      "              precision    recall  f1-score   support\n",
      "\n",
      "           0       0.76      0.88      0.82       286\n",
      "           1       0.51      0.30      0.38       116\n",
      "\n",
      "    accuracy                           0.72       402\n",
      "   macro avg       0.64      0.59      0.60       402\n",
      "weighted avg       0.69      0.72      0.69       402\n",
      "\n",
      "F-Measure: 0.598\n"
     ]
    },
    {
     "data": {
      "image/png": "[encoded data removed]",
      "text/plain": [
       "<Figure size 432x288 with 1 Axes>"
      ]
     },
     "metadata": {
      "needs_background": "light"
     },
     "output_type": "display_data"
    }
   ],
   "source": [
    "model = RandomForestClassifier(random_state=42)\n",
    "\n",
    "model = get_results(X_train, X_test,y_train, y_test, model)\n",
    "plotter = plot_learning_curve(model, \"%s\"%type(model).__name__, X_test, y_test, (0.1, 1.01), cv=cv, n_jobs=-1)\n",
    "plotter.show()"
   ]
  },
  {
   "cell_type": "markdown",
   "id": "43b69912",
   "metadata": {},
   "source": [
    "Using an XGBoost classfier"
   ]
  },
  {
   "cell_type": "code",
   "execution_count": 22,
   "id": "fe1b517e",
   "metadata": {
    "scrolled": false
   },
   "outputs": [
    {
     "name": "stdout",
     "output_type": "stream",
     "text": [
      "value\n",
      "[15:42:52] WARNING: ../src/learner.cc:1095: Starting in XGBoost 1.3.0, the default evaluation metric used with the objective 'binary:logistic' was changed from 'error' to 'logloss'. Explicitly set eval_metric if you'd like to restore the old behavior.\n",
      "classifier accuracy 66.67%\n",
      "Confusion Matrix :\n",
      "[[244  42]\n",
      " [ 92  24]]\n",
      "Accuracy Score : 0.6666666666666666\n",
      "Report : \n",
      "              precision    recall  f1-score   support\n",
      "\n",
      "           0       0.73      0.85      0.78       286\n",
      "           1       0.36      0.21      0.26       116\n",
      "\n",
      "    accuracy                           0.67       402\n",
      "   macro avg       0.54      0.53      0.52       402\n",
      "weighted avg       0.62      0.67      0.63       402\n",
      "\n",
      "F-Measure: 0.524\n"
     ]
    },
    {
     "data": {
      "image/png": "[encoded data removed]",
      "text/plain": [
       "<Figure size 432x288 with 1 Axes>"
      ]
     },
     "metadata": {
      "needs_background": "light"
     },
     "output_type": "display_data"
    }
   ],
   "source": [
    "model = XGBClassifier(random_state=42)\n",
    "\n",
    "model = get_results(X_train, X_test,y_train, y_test, model)\n",
    "plotter = plot_learning_curve(model, \"%s\"%type(model).__name__, X_test, y_test, (0.1, 1.01), cv=cv, n_jobs=-1)\n",
    "plotter.show()"
   ]
  },
  {
   "cell_type": "markdown",
   "id": "f7185399",
   "metadata": {},
   "source": [
    "Run a simple multilayer perceptron before we try deep neural net architecture"
   ]
  },
  {
   "cell_type": "code",
   "execution_count": 23,
   "id": "86cf8523",
   "metadata": {},
   "outputs": [
    {
     "name": "stdout",
     "output_type": "stream",
     "text": [
      "value\n",
      "classifier accuracy 70.65%\n",
      "Confusion Matrix :\n",
      "[[255  31]\n",
      " [ 87  29]]\n",
      "Accuracy Score : 0.7064676616915423\n",
      "Report : \n",
      "              precision    recall  f1-score   support\n",
      "\n",
      "           0       0.75      0.89      0.81       286\n",
      "           1       0.48      0.25      0.33       116\n",
      "\n",
      "    accuracy                           0.71       402\n",
      "   macro avg       0.61      0.57      0.57       402\n",
      "weighted avg       0.67      0.71      0.67       402\n",
      "\n",
      "F-Measure: 0.571\n"
     ]
    },
    {
     "data": {
      "image/png": "[encoded data removed]",
      "text/plain": [
       "<Figure size 432x288 with 1 Axes>"
      ]
     },
     "metadata": {
      "needs_background": "light"
     },
     "output_type": "display_data"
    }
   ],
   "source": [
    "model = MLPClassifier(random_state=42)\n",
    "\n",
    "get_results(X_train, X_test,y_train, y_test, model)\n",
    "plotter = plot_learning_curve(model, \"%s\"%type(model).__name__, X_test, y_test, (0.1, 1.01), cv=cv, n_jobs=-1)\n",
    "plotter.show()"
   ]
  },
  {
   "cell_type": "markdown",
   "id": "5b92b54d",
   "metadata": {},
   "source": [
    "Given that we achieve low scores especially on the precision of class rejected (which makes sense because so far we have majority classifiers of class accepted)."
   ]
  },
  {
   "cell_type": "code",
   "execution_count": 24,
   "id": "9b8dc2d6",
   "metadata": {},
   "outputs": [
    {
     "name": "stdout",
     "output_type": "stream",
     "text": [
      "epoch: 0\n",
      "train\n",
      "loss 0.5779144483454087\n",
      "score 0.4607393010310101\n",
      "\n",
      "\n",
      "eval\n",
      "loss 0.5379519551992417\n",
      "score 0.5318302930928469\n",
      "epoch: 1\n",
      "train\n",
      "loss 0.6027891232686884\n",
      "score 0.4124433926534463\n",
      "\n",
      "\n",
      "eval\n",
      "loss 0.5425730466842651\n",
      "score 0.5318302930928469\n",
      "epoch: 2\n",
      "train\n",
      "loss 0.5666924715042114\n",
      "score 0.4282932256605282\n",
      "\n",
      "\n",
      "eval\n",
      "loss 0.5397961795330047\n",
      "score 0.5318302930928469\n",
      "epoch: 3\n",
      "train\n",
      "loss 0.5644037618356592\n",
      "score 0.42833495507345565\n",
      "\n",
      "\n",
      "eval\n",
      "loss 0.5394816160202026\n",
      "score 0.5318302930928469\n",
      "epoch: 4\n",
      "train\n",
      "loss 0.5733431384843939\n",
      "score 0.42424149969314057\n",
      "\n",
      "\n",
      "eval\n",
      "loss 0.5405272603034973\n",
      "score 0.5318302930928469\n",
      "epoch: 5\n",
      "train\n",
      "loss 0.5758572168209973\n",
      "score 0.42419599721214496\n",
      "\n",
      "\n",
      "eval\n",
      "loss 0.5410739481449127\n",
      "score 0.5318302930928469\n",
      "epoch: 6\n"
     ]
    },
    {
     "name": "stderr",
     "output_type": "stream",
     "text": [
      "/home/dlolis/Desktop/assignment/assignment_of/lib/python3.8/site-packages/xgboost/sklearn.py:1146: UserWarning: The use of label encoder in XGBClassifier is deprecated and will be removed in a future release. To remove this warning, do the following: 1) Pass option use_label_encoder=False when constructing XGBClassifier object; and 2) Encode your labels (y) as integers starting with 0, i.e. 0, 1, 2, ..., [num_class - 1].\n",
      "  warnings.warn(label_encoder_deprecation_msg, UserWarning)\n",
      "/home/dlolis/Desktop/assignment/assignment_of/lib/python3.8/site-packages/xgboost/sklearn.py:1146: UserWarning: The use of label encoder in XGBClassifier is deprecated and will be removed in a future release. To remove this warning, do the following: 1) Pass option use_label_encoder=False when constructing XGBClassifier object; and 2) Encode your labels (y) as integers starting with 0, i.e. 0, 1, 2, ..., [num_class - 1].\n",
      "  warnings.warn(label_encoder_deprecation_msg, UserWarning)\n",
      "/home/dlolis/Desktop/assignment/assignment_of/lib/python3.8/site-packages/xgboost/sklearn.py:1146: UserWarning: The use of label encoder in XGBClassifier is deprecated and will be removed in a future release. To remove this warning, do the following: 1) Pass option use_label_encoder=False when constructing XGBClassifier object; and 2) Encode your labels (y) as integers starting with 0, i.e. 0, 1, 2, ..., [num_class - 1].\n",
      "  warnings.warn(label_encoder_deprecation_msg, UserWarning)\n",
      "/home/dlolis/Desktop/assignment/assignment_of/lib/python3.8/site-packages/sklearn/neural_network/_multilayer_perceptron.py:692: ConvergenceWarning: Stochastic Optimizer: Maximum iterations (200) reached and the optimization hasn't converged yet.\n",
      "  warnings.warn(\n",
      "/home/dlolis/Desktop/assignment/assignment_of/lib/python3.8/site-packages/sklearn/neural_network/_multilayer_perceptron.py:692: ConvergenceWarning: Stochastic Optimizer: Maximum iterations (200) reached and the optimization hasn't converged yet.\n",
      "  warnings.warn(\n",
      "/home/dlolis/Desktop/assignment/assignment_of/lib/python3.8/site-packages/sklearn/neural_network/_multilayer_perceptron.py:692: ConvergenceWarning: Stochastic Optimizer: Maximum iterations (200) reached and the optimization hasn't converged yet.\n",
      "  warnings.warn(\n",
      "/home/dlolis/Desktop/assignment/assignment_of/lib/python3.8/site-packages/sklearn/neural_network/_multilayer_perceptron.py:692: ConvergenceWarning: Stochastic Optimizer: Maximum iterations (200) reached and the optimization hasn't converged yet.\n",
      "  warnings.warn(\n",
      "/home/dlolis/Desktop/assignment/assignment_of/lib/python3.8/site-packages/xgboost/sklearn.py:1146: UserWarning: The use of label encoder in XGBClassifier is deprecated and will be removed in a future release. To remove this warning, do the following: 1) Pass option use_label_encoder=False when constructing XGBClassifier object; and 2) Encode your labels (y) as integers starting with 0, i.e. 0, 1, 2, ..., [num_class - 1].\n",
      "  warnings.warn(label_encoder_deprecation_msg, UserWarning)\n",
      "/home/dlolis/Desktop/assignment/assignment_of/lib/python3.8/site-packages/xgboost/sklearn.py:1146: UserWarning: The use of label encoder in XGBClassifier is deprecated and will be removed in a future release. To remove this warning, do the following: 1) Pass option use_label_encoder=False when constructing XGBClassifier object; and 2) Encode your labels (y) as integers starting with 0, i.e. 0, 1, 2, ..., [num_class - 1].\n",
      "  warnings.warn(label_encoder_deprecation_msg, UserWarning)\n",
      "/home/dlolis/Desktop/assignment/assignment_of/lib/python3.8/site-packages/xgboost/sklearn.py:1146: UserWarning: The use of label encoder in XGBClassifier is deprecated and will be removed in a future release. To remove this warning, do the following: 1) Pass option use_label_encoder=False when constructing XGBClassifier object; and 2) Encode your labels (y) as integers starting with 0, i.e. 0, 1, 2, ..., [num_class - 1].\n",
      "  warnings.warn(label_encoder_deprecation_msg, UserWarning)\n",
      "/home/dlolis/Desktop/assignment/assignment_of/lib/python3.8/site-packages/xgboost/sklearn.py:1146: UserWarning: The use of label encoder in XGBClassifier is deprecated and will be removed in a future release. To remove this warning, do the following: 1) Pass option use_label_encoder=False when constructing XGBClassifier object; and 2) Encode your labels (y) as integers starting with 0, i.e. 0, 1, 2, ..., [num_class - 1].\n",
      "  warnings.warn(label_encoder_deprecation_msg, UserWarning)\n",
      "/home/dlolis/Desktop/assignment/assignment_of/lib/python3.8/site-packages/sklearn/neural_network/_multilayer_perceptron.py:692: ConvergenceWarning: Stochastic Optimizer: Maximum iterations (200) reached and the optimization hasn't converged yet.\n",
      "  warnings.warn(\n",
      "/home/dlolis/Desktop/assignment/assignment_of/lib/python3.8/site-packages/sklearn/neural_network/_multilayer_perceptron.py:692: ConvergenceWarning: Stochastic Optimizer: Maximum iterations (200) reached and the optimization hasn't converged yet.\n",
      "  warnings.warn(\n",
      "/home/dlolis/Desktop/assignment/assignment_of/lib/python3.8/site-packages/sklearn/neural_network/_multilayer_perceptron.py:692: ConvergenceWarning: Stochastic Optimizer: Maximum iterations (200) reached and the optimization hasn't converged yet.\n",
      "  warnings.warn(\n",
      "/home/dlolis/Desktop/assignment/assignment_of/lib/python3.8/site-packages/sklearn/neural_network/_multilayer_perceptron.py:692: ConvergenceWarning: Stochastic Optimizer: Maximum iterations (200) reached and the optimization hasn't converged yet.\n",
      "  warnings.warn(\n"
     ]
    },
    {
     "name": "stdout",
     "output_type": "stream",
     "text": [
      "[15:42:56] WARNING: ../src/learner.cc:1095: Starting in XGBoost 1.3.0, the default evaluation metric used with the objective 'binary:logistic' was changed from 'error' to 'logloss'. Explicitly set eval_metric if you'd like to restore the old behavior.\n",
      "[15:45:26] WARNING: ../src/learner.cc:1095: Starting in XGBoost 1.3.0, the default evaluation metric used with the objective 'binary:logistic' was changed from 'error' to 'logloss'. Explicitly set eval_metric if you'd like to restore the old behavior.\n",
      "[15:47:56] WARNING: ../src/learner.cc:1095: Starting in XGBoost 1.3.0, the default evaluation metric used with the objective 'binary:logistic' was changed from 'error' to 'logloss'. Explicitly set eval_metric if you'd like to restore the old behavior.\n",
      "[15:42:55] WARNING: ../src/learner.cc:1095: Starting in XGBoost 1.3.0, the default evaluation metric used with the objective 'binary:logistic' was changed from 'error' to 'logloss'. Explicitly set eval_metric if you'd like to restore the old behavior.\n",
      "[15:44:49] WARNING: ../src/learner.cc:1095: Starting in XGBoost 1.3.0, the default evaluation metric used with the objective 'binary:logistic' was changed from 'error' to 'logloss'. Explicitly set eval_metric if you'd like to restore the old behavior.\n",
      "[15:46:13] WARNING: ../src/learner.cc:1095: Starting in XGBoost 1.3.0, the default evaluation metric used with the objective 'binary:logistic' was changed from 'error' to 'logloss'. Explicitly set eval_metric if you'd like to restore the old behavior.\n",
      "[15:48:43] WARNING: ../src/learner.cc:1095: Starting in XGBoost 1.3.0, the default evaluation metric used with the objective 'binary:logistic' was changed from 'error' to 'logloss'. Explicitly set eval_metric if you'd like to restore the old behavior.\n",
      "[15:42:55] WARNING: ../src/learner.cc:1095: Starting in XGBoost 1.3.0, the default evaluation metric used with the objective 'binary:logistic' was changed from 'error' to 'logloss'. Explicitly set eval_metric if you'd like to restore the old behavior.\n",
      "[15:45:22] WARNING: ../src/learner.cc:1095: Starting in XGBoost 1.3.0, the default evaluation metric used with the objective 'binary:logistic' was changed from 'error' to 'logloss'. Explicitly set eval_metric if you'd like to restore the old behavior.\n",
      "[15:47:13] WARNING: ../src/learner.cc:1095: Starting in XGBoost 1.3.0, the default evaluation metric used with the objective 'binary:logistic' was changed from 'error' to 'logloss'. Explicitly set eval_metric if you'd like to restore the old behavior.\n",
      "[15:48:43] WARNING: ../src/learner.cc:1095: Starting in XGBoost 1.3.0, the default evaluation metric used with the objective 'binary:logistic' was changed from 'error' to 'logloss'. Explicitly set eval_metric if you'd like to restore the old behavior.\n",
      "[15:42:54] WARNING: ../src/learner.cc:1095: Starting in XGBoost 1.3.0, the default evaluation metric used with the objective 'binary:logistic' was changed from 'error' to 'logloss'. Explicitly set eval_metric if you'd like to restore the old behavior.\n",
      "[15:44:20] WARNING: ../src/learner.cc:1095: Starting in XGBoost 1.3.0, the default evaluation metric used with the objective 'binary:logistic' was changed from 'error' to 'logloss'. Explicitly set eval_metric if you'd like to restore the old behavior.\n",
      "[15:47:10] WARNING: ../src/learner.cc:1095: Starting in XGBoost 1.3.0, the default evaluation metric used with the objective 'binary:logistic' was changed from 'error' to 'logloss'. Explicitly set eval_metric if you'd like to restore the old behavior.\n",
      "[15:48:37] WARNING: ../src/learner.cc:1095: Starting in XGBoost 1.3.0, the default evaluation metric used with the objective 'binary:logistic' was changed from 'error' to 'logloss'. Explicitly set eval_metric if you'd like to restore the old behavior.\n"
     ]
    },
    {
     "name": "stderr",
     "output_type": "stream",
     "text": [
      "/home/dlolis/Desktop/assignment/assignment_of/lib/python3.8/site-packages/xgboost/sklearn.py:1146: UserWarning: The use of label encoder in XGBClassifier is deprecated and will be removed in a future release. To remove this warning, do the following: 1) Pass option use_label_encoder=False when constructing XGBClassifier object; and 2) Encode your labels (y) as integers starting with 0, i.e. 0, 1, 2, ..., [num_class - 1].\n",
      "  warnings.warn(label_encoder_deprecation_msg, UserWarning)\n",
      "/home/dlolis/Desktop/assignment/assignment_of/lib/python3.8/site-packages/xgboost/sklearn.py:1146: UserWarning: The use of label encoder in XGBClassifier is deprecated and will be removed in a future release. To remove this warning, do the following: 1) Pass option use_label_encoder=False when constructing XGBClassifier object; and 2) Encode your labels (y) as integers starting with 0, i.e. 0, 1, 2, ..., [num_class - 1].\n",
      "  warnings.warn(label_encoder_deprecation_msg, UserWarning)\n",
      "/home/dlolis/Desktop/assignment/assignment_of/lib/python3.8/site-packages/xgboost/sklearn.py:1146: UserWarning: The use of label encoder in XGBClassifier is deprecated and will be removed in a future release. To remove this warning, do the following: 1) Pass option use_label_encoder=False when constructing XGBClassifier object; and 2) Encode your labels (y) as integers starting with 0, i.e. 0, 1, 2, ..., [num_class - 1].\n",
      "  warnings.warn(label_encoder_deprecation_msg, UserWarning)\n",
      "/home/dlolis/Desktop/assignment/assignment_of/lib/python3.8/site-packages/xgboost/sklearn.py:1146: UserWarning: The use of label encoder in XGBClassifier is deprecated and will be removed in a future release. To remove this warning, do the following: 1) Pass option use_label_encoder=False when constructing XGBClassifier object; and 2) Encode your labels (y) as integers starting with 0, i.e. 0, 1, 2, ..., [num_class - 1].\n",
      "  warnings.warn(label_encoder_deprecation_msg, UserWarning)\n",
      "/home/dlolis/Desktop/assignment/assignment_of/lib/python3.8/site-packages/sklearn/neural_network/_multilayer_perceptron.py:692: ConvergenceWarning: Stochastic Optimizer: Maximum iterations (200) reached and the optimization hasn't converged yet.\n",
      "  warnings.warn(\n",
      "/home/dlolis/Desktop/assignment/assignment_of/lib/python3.8/site-packages/sklearn/neural_network/_multilayer_perceptron.py:692: ConvergenceWarning: Stochastic Optimizer: Maximum iterations (200) reached and the optimization hasn't converged yet.\n",
      "  warnings.warn(\n",
      "/home/dlolis/Desktop/assignment/assignment_of/lib/python3.8/site-packages/sklearn/neural_network/_multilayer_perceptron.py:692: ConvergenceWarning: Stochastic Optimizer: Maximum iterations (200) reached and the optimization hasn't converged yet.\n",
      "  warnings.warn(\n",
      "/home/dlolis/Desktop/assignment/assignment_of/lib/python3.8/site-packages/xgboost/sklearn.py:1146: UserWarning: The use of label encoder in XGBClassifier is deprecated and will be removed in a future release. To remove this warning, do the following: 1) Pass option use_label_encoder=False when constructing XGBClassifier object; and 2) Encode your labels (y) as integers starting with 0, i.e. 0, 1, 2, ..., [num_class - 1].\n",
      "  warnings.warn(label_encoder_deprecation_msg, UserWarning)\n",
      "/home/dlolis/Desktop/assignment/assignment_of/lib/python3.8/site-packages/xgboost/sklearn.py:1146: UserWarning: The use of label encoder in XGBClassifier is deprecated and will be removed in a future release. To remove this warning, do the following: 1) Pass option use_label_encoder=False when constructing XGBClassifier object; and 2) Encode your labels (y) as integers starting with 0, i.e. 0, 1, 2, ..., [num_class - 1].\n",
      "  warnings.warn(label_encoder_deprecation_msg, UserWarning)\n",
      "/home/dlolis/Desktop/assignment/assignment_of/lib/python3.8/site-packages/xgboost/sklearn.py:1146: UserWarning: The use of label encoder in XGBClassifier is deprecated and will be removed in a future release. To remove this warning, do the following: 1) Pass option use_label_encoder=False when constructing XGBClassifier object; and 2) Encode your labels (y) as integers starting with 0, i.e. 0, 1, 2, ..., [num_class - 1].\n",
      "  warnings.warn(label_encoder_deprecation_msg, UserWarning)\n",
      "/home/dlolis/Desktop/assignment/assignment_of/lib/python3.8/site-packages/xgboost/sklearn.py:1146: UserWarning: The use of label encoder in XGBClassifier is deprecated and will be removed in a future release. To remove this warning, do the following: 1) Pass option use_label_encoder=False when constructing XGBClassifier object; and 2) Encode your labels (y) as integers starting with 0, i.e. 0, 1, 2, ..., [num_class - 1].\n",
      "  warnings.warn(label_encoder_deprecation_msg, UserWarning)\n",
      "/home/dlolis/Desktop/assignment/assignment_of/lib/python3.8/site-packages/sklearn/neural_network/_multilayer_perceptron.py:692: ConvergenceWarning: Stochastic Optimizer: Maximum iterations (200) reached and the optimization hasn't converged yet.\n",
      "  warnings.warn(\n",
      "/home/dlolis/Desktop/assignment/assignment_of/lib/python3.8/site-packages/sklearn/neural_network/_multilayer_perceptron.py:692: ConvergenceWarning: Stochastic Optimizer: Maximum iterations (200) reached and the optimization hasn't converged yet.\n",
      "  warnings.warn(\n",
      "/home/dlolis/Desktop/assignment/assignment_of/lib/python3.8/site-packages/sklearn/neural_network/_multilayer_perceptron.py:692: ConvergenceWarning: Stochastic Optimizer: Maximum iterations (200) reached and the optimization hasn't converged yet.\n",
      "  warnings.warn(\n",
      "/home/dlolis/Desktop/assignment/assignment_of/lib/python3.8/site-packages/xgboost/sklearn.py:1146: UserWarning: The use of label encoder in XGBClassifier is deprecated and will be removed in a future release. To remove this warning, do the following: 1) Pass option use_label_encoder=False when constructing XGBClassifier object; and 2) Encode your labels (y) as integers starting with 0, i.e. 0, 1, 2, ..., [num_class - 1].\n",
      "  warnings.warn(label_encoder_deprecation_msg, UserWarning)\n",
      "/home/dlolis/Desktop/assignment/assignment_of/lib/python3.8/site-packages/xgboost/sklearn.py:1146: UserWarning: The use of label encoder in XGBClassifier is deprecated and will be removed in a future release. To remove this warning, do the following: 1) Pass option use_label_encoder=False when constructing XGBClassifier object; and 2) Encode your labels (y) as integers starting with 0, i.e. 0, 1, 2, ..., [num_class - 1].\n",
      "  warnings.warn(label_encoder_deprecation_msg, UserWarning)\n",
      "/home/dlolis/Desktop/assignment/assignment_of/lib/python3.8/site-packages/xgboost/sklearn.py:1146: UserWarning: The use of label encoder in XGBClassifier is deprecated and will be removed in a future release. To remove this warning, do the following: 1) Pass option use_label_encoder=False when constructing XGBClassifier object; and 2) Encode your labels (y) as integers starting with 0, i.e. 0, 1, 2, ..., [num_class - 1].\n",
      "  warnings.warn(label_encoder_deprecation_msg, UserWarning)\n",
      "/home/dlolis/Desktop/assignment/assignment_of/lib/python3.8/site-packages/xgboost/sklearn.py:1146: UserWarning: The use of label encoder in XGBClassifier is deprecated and will be removed in a future release. To remove this warning, do the following: 1) Pass option use_label_encoder=False when constructing XGBClassifier object; and 2) Encode your labels (y) as integers starting with 0, i.e. 0, 1, 2, ..., [num_class - 1].\n",
      "  warnings.warn(label_encoder_deprecation_msg, UserWarning)\n",
      "/home/dlolis/Desktop/assignment/assignment_of/lib/python3.8/site-packages/sklearn/neural_network/_multilayer_perceptron.py:692: ConvergenceWarning: Stochastic Optimizer: Maximum iterations (200) reached and the optimization hasn't converged yet.\n",
      "  warnings.warn(\n",
      "/home/dlolis/Desktop/assignment/assignment_of/lib/python3.8/site-packages/sklearn/neural_network/_multilayer_perceptron.py:692: ConvergenceWarning: Stochastic Optimizer: Maximum iterations (200) reached and the optimization hasn't converged yet.\n",
      "  warnings.warn(\n",
      "/home/dlolis/Desktop/assignment/assignment_of/lib/python3.8/site-packages/sklearn/neural_network/_multilayer_perceptron.py:692: ConvergenceWarning: Stochastic Optimizer: Maximum iterations (200) reached and the optimization hasn't converged yet.\n",
      "  warnings.warn(\n",
      "/home/dlolis/Desktop/assignment/assignment_of/lib/python3.8/site-packages/sklearn/neural_network/_multilayer_perceptron.py:692: ConvergenceWarning: Stochastic Optimizer: Maximum iterations (200) reached and the optimization hasn't converged yet.\n",
      "  warnings.warn(\n",
      "/home/dlolis/Desktop/assignment/assignment_of/lib/python3.8/site-packages/xgboost/sklearn.py:1146: UserWarning: The use of label encoder in XGBClassifier is deprecated and will be removed in a future release. To remove this warning, do the following: 1) Pass option use_label_encoder=False when constructing XGBClassifier object; and 2) Encode your labels (y) as integers starting with 0, i.e. 0, 1, 2, ..., [num_class - 1].\n",
      "  warnings.warn(label_encoder_deprecation_msg, UserWarning)\n",
      "/home/dlolis/Desktop/assignment/assignment_of/lib/python3.8/site-packages/xgboost/sklearn.py:1146: UserWarning: The use of label encoder in XGBClassifier is deprecated and will be removed in a future release. To remove this warning, do the following: 1) Pass option use_label_encoder=False when constructing XGBClassifier object; and 2) Encode your labels (y) as integers starting with 0, i.e. 0, 1, 2, ..., [num_class - 1].\n",
      "  warnings.warn(label_encoder_deprecation_msg, UserWarning)\n",
      "/home/dlolis/Desktop/assignment/assignment_of/lib/python3.8/site-packages/xgboost/sklearn.py:1146: UserWarning: The use of label encoder in XGBClassifier is deprecated and will be removed in a future release. To remove this warning, do the following: 1) Pass option use_label_encoder=False when constructing XGBClassifier object; and 2) Encode your labels (y) as integers starting with 0, i.e. 0, 1, 2, ..., [num_class - 1].\n",
      "  warnings.warn(label_encoder_deprecation_msg, UserWarning)\n",
      "/home/dlolis/Desktop/assignment/assignment_of/lib/python3.8/site-packages/sklearn/neural_network/_multilayer_perceptron.py:692: ConvergenceWarning: Stochastic Optimizer: Maximum iterations (200) reached and the optimization hasn't converged yet.\n",
      "  warnings.warn(\n",
      "/home/dlolis/Desktop/assignment/assignment_of/lib/python3.8/site-packages/sklearn/neural_network/_multilayer_perceptron.py:692: ConvergenceWarning: Stochastic Optimizer: Maximum iterations (200) reached and the optimization hasn't converged yet.\n",
      "  warnings.warn(\n",
      "/home/dlolis/Desktop/assignment/assignment_of/lib/python3.8/site-packages/sklearn/neural_network/_multilayer_perceptron.py:692: ConvergenceWarning: Stochastic Optimizer: Maximum iterations (200) reached and the optimization hasn't converged yet.\n",
      "  warnings.warn(\n",
      "/home/dlolis/Desktop/assignment/assignment_of/lib/python3.8/site-packages/sklearn/neural_network/_multilayer_perceptron.py:692: ConvergenceWarning: Stochastic Optimizer: Maximum iterations (200) reached and the optimization hasn't converged yet.\n",
      "  warnings.warn(\n"
     ]
    },
    {
     "name": "stdout",
     "output_type": "stream",
     "text": [
      "[15:42:56] WARNING: ../src/learner.cc:1095: Starting in XGBoost 1.3.0, the default evaluation metric used with the objective 'binary:logistic' was changed from 'error' to 'logloss'. Explicitly set eval_metric if you'd like to restore the old behavior.\n",
      "[15:45:11] WARNING: ../src/learner.cc:1095: Starting in XGBoost 1.3.0, the default evaluation metric used with the objective 'binary:logistic' was changed from 'error' to 'logloss'. Explicitly set eval_metric if you'd like to restore the old behavior.\n",
      "[15:47:09] WARNING: ../src/learner.cc:1095: Starting in XGBoost 1.3.0, the default evaluation metric used with the objective 'binary:logistic' was changed from 'error' to 'logloss'. Explicitly set eval_metric if you'd like to restore the old behavior.\n",
      "[15:48:15] WARNING: ../src/learner.cc:1095: Starting in XGBoost 1.3.0, the default evaluation metric used with the objective 'binary:logistic' was changed from 'error' to 'logloss'. Explicitly set eval_metric if you'd like to restore the old behavior.\n",
      "[15:42:54] WARNING: ../src/learner.cc:1095: Starting in XGBoost 1.3.0, the default evaluation metric used with the objective 'binary:logistic' was changed from 'error' to 'logloss'. Explicitly set eval_metric if you'd like to restore the old behavior.\n",
      "[15:43:55] WARNING: ../src/learner.cc:1095: Starting in XGBoost 1.3.0, the default evaluation metric used with the objective 'binary:logistic' was changed from 'error' to 'logloss'. Explicitly set eval_metric if you'd like to restore the old behavior.\n",
      "[15:46:41] WARNING: ../src/learner.cc:1095: Starting in XGBoost 1.3.0, the default evaluation metric used with the objective 'binary:logistic' was changed from 'error' to 'logloss'. Explicitly set eval_metric if you'd like to restore the old behavior.\n"
     ]
    },
    {
     "name": "stderr",
     "output_type": "stream",
     "text": [
      "/home/dlolis/Desktop/assignment/assignment_of/lib/python3.8/site-packages/xgboost/sklearn.py:1146: UserWarning: The use of label encoder in XGBClassifier is deprecated and will be removed in a future release. To remove this warning, do the following: 1) Pass option use_label_encoder=False when constructing XGBClassifier object; and 2) Encode your labels (y) as integers starting with 0, i.e. 0, 1, 2, ..., [num_class - 1].\n",
      "  warnings.warn(label_encoder_deprecation_msg, UserWarning)\n",
      "/home/dlolis/Desktop/assignment/assignment_of/lib/python3.8/site-packages/xgboost/sklearn.py:1146: UserWarning: The use of label encoder in XGBClassifier is deprecated and will be removed in a future release. To remove this warning, do the following: 1) Pass option use_label_encoder=False when constructing XGBClassifier object; and 2) Encode your labels (y) as integers starting with 0, i.e. 0, 1, 2, ..., [num_class - 1].\n",
      "  warnings.warn(label_encoder_deprecation_msg, UserWarning)\n",
      "/home/dlolis/Desktop/assignment/assignment_of/lib/python3.8/site-packages/xgboost/sklearn.py:1146: UserWarning: The use of label encoder in XGBClassifier is deprecated and will be removed in a future release. To remove this warning, do the following: 1) Pass option use_label_encoder=False when constructing XGBClassifier object; and 2) Encode your labels (y) as integers starting with 0, i.e. 0, 1, 2, ..., [num_class - 1].\n",
      "  warnings.warn(label_encoder_deprecation_msg, UserWarning)\n",
      "/home/dlolis/Desktop/assignment/assignment_of/lib/python3.8/site-packages/sklearn/neural_network/_multilayer_perceptron.py:692: ConvergenceWarning: Stochastic Optimizer: Maximum iterations (200) reached and the optimization hasn't converged yet.\n",
      "  warnings.warn(\n",
      "/home/dlolis/Desktop/assignment/assignment_of/lib/python3.8/site-packages/sklearn/neural_network/_multilayer_perceptron.py:692: ConvergenceWarning: Stochastic Optimizer: Maximum iterations (200) reached and the optimization hasn't converged yet.\n",
      "  warnings.warn(\n",
      "/home/dlolis/Desktop/assignment/assignment_of/lib/python3.8/site-packages/sklearn/neural_network/_multilayer_perceptron.py:692: ConvergenceWarning: Stochastic Optimizer: Maximum iterations (200) reached and the optimization hasn't converged yet.\n",
      "  warnings.warn(\n",
      "/home/dlolis/Desktop/assignment/assignment_of/lib/python3.8/site-packages/sklearn/neural_network/_multilayer_perceptron.py:692: ConvergenceWarning: Stochastic Optimizer: Maximum iterations (200) reached and the optimization hasn't converged yet.\n",
      "  warnings.warn(\n",
      "/home/dlolis/Desktop/assignment/assignment_of/lib/python3.8/site-packages/xgboost/sklearn.py:1146: UserWarning: The use of label encoder in XGBClassifier is deprecated and will be removed in a future release. To remove this warning, do the following: 1) Pass option use_label_encoder=False when constructing XGBClassifier object; and 2) Encode your labels (y) as integers starting with 0, i.e. 0, 1, 2, ..., [num_class - 1].\n",
      "  warnings.warn(label_encoder_deprecation_msg, UserWarning)\n",
      "/home/dlolis/Desktop/assignment/assignment_of/lib/python3.8/site-packages/xgboost/sklearn.py:1146: UserWarning: The use of label encoder in XGBClassifier is deprecated and will be removed in a future release. To remove this warning, do the following: 1) Pass option use_label_encoder=False when constructing XGBClassifier object; and 2) Encode your labels (y) as integers starting with 0, i.e. 0, 1, 2, ..., [num_class - 1].\n",
      "  warnings.warn(label_encoder_deprecation_msg, UserWarning)\n",
      "/home/dlolis/Desktop/assignment/assignment_of/lib/python3.8/site-packages/xgboost/sklearn.py:1146: UserWarning: The use of label encoder in XGBClassifier is deprecated and will be removed in a future release. To remove this warning, do the following: 1) Pass option use_label_encoder=False when constructing XGBClassifier object; and 2) Encode your labels (y) as integers starting with 0, i.e. 0, 1, 2, ..., [num_class - 1].\n",
      "  warnings.warn(label_encoder_deprecation_msg, UserWarning)\n",
      "/home/dlolis/Desktop/assignment/assignment_of/lib/python3.8/site-packages/xgboost/sklearn.py:1146: UserWarning: The use of label encoder in XGBClassifier is deprecated and will be removed in a future release. To remove this warning, do the following: 1) Pass option use_label_encoder=False when constructing XGBClassifier object; and 2) Encode your labels (y) as integers starting with 0, i.e. 0, 1, 2, ..., [num_class - 1].\n",
      "  warnings.warn(label_encoder_deprecation_msg, UserWarning)\n",
      "/home/dlolis/Desktop/assignment/assignment_of/lib/python3.8/site-packages/xgboost/sklearn.py:1146: UserWarning: The use of label encoder in XGBClassifier is deprecated and will be removed in a future release. To remove this warning, do the following: 1) Pass option use_label_encoder=False when constructing XGBClassifier object; and 2) Encode your labels (y) as integers starting with 0, i.e. 0, 1, 2, ..., [num_class - 1].\n",
      "  warnings.warn(label_encoder_deprecation_msg, UserWarning)\n",
      "/home/dlolis/Desktop/assignment/assignment_of/lib/python3.8/site-packages/sklearn/neural_network/_multilayer_perceptron.py:692: ConvergenceWarning: Stochastic Optimizer: Maximum iterations (200) reached and the optimization hasn't converged yet.\n",
      "  warnings.warn(\n",
      "/home/dlolis/Desktop/assignment/assignment_of/lib/python3.8/site-packages/sklearn/neural_network/_multilayer_perceptron.py:692: ConvergenceWarning: Stochastic Optimizer: Maximum iterations (200) reached and the optimization hasn't converged yet.\n",
      "  warnings.warn(\n",
      "/home/dlolis/Desktop/assignment/assignment_of/lib/python3.8/site-packages/sklearn/neural_network/_multilayer_perceptron.py:692: ConvergenceWarning: Stochastic Optimizer: Maximum iterations (200) reached and the optimization hasn't converged yet.\n",
      "  warnings.warn(\n",
      "/home/dlolis/Desktop/assignment/assignment_of/lib/python3.8/site-packages/sklearn/neural_network/_multilayer_perceptron.py:692: ConvergenceWarning: Stochastic Optimizer: Maximum iterations (200) reached and the optimization hasn't converged yet.\n",
      "  warnings.warn(\n"
     ]
    },
    {
     "name": "stdout",
     "output_type": "stream",
     "text": [
      "[15:42:55] WARNING: ../src/learner.cc:1095: Starting in XGBoost 1.3.0, the default evaluation metric used with the objective 'binary:logistic' was changed from 'error' to 'logloss'. Explicitly set eval_metric if you'd like to restore the old behavior.\n",
      "[15:45:09] WARNING: ../src/learner.cc:1095: Starting in XGBoost 1.3.0, the default evaluation metric used with the objective 'binary:logistic' was changed from 'error' to 'logloss'. Explicitly set eval_metric if you'd like to restore the old behavior.\n",
      "[15:46:43] WARNING: ../src/learner.cc:1095: Starting in XGBoost 1.3.0, the default evaluation metric used with the objective 'binary:logistic' was changed from 'error' to 'logloss'. Explicitly set eval_metric if you'd like to restore the old behavior.\n",
      "[15:42:55] WARNING: ../src/learner.cc:1095: Starting in XGBoost 1.3.0, the default evaluation metric used with the objective 'binary:logistic' was changed from 'error' to 'logloss'. Explicitly set eval_metric if you'd like to restore the old behavior.\n",
      "[15:44:24] WARNING: ../src/learner.cc:1095: Starting in XGBoost 1.3.0, the default evaluation metric used with the objective 'binary:logistic' was changed from 'error' to 'logloss'. Explicitly set eval_metric if you'd like to restore the old behavior.\n",
      "[15:45:22] WARNING: ../src/learner.cc:1095: Starting in XGBoost 1.3.0, the default evaluation metric used with the objective 'binary:logistic' was changed from 'error' to 'logloss'. Explicitly set eval_metric if you'd like to restore the old behavior.\n",
      "[15:47:32] WARNING: ../src/learner.cc:1095: Starting in XGBoost 1.3.0, the default evaluation metric used with the objective 'binary:logistic' was changed from 'error' to 'logloss'. Explicitly set eval_metric if you'd like to restore the old behavior.\n",
      "[15:49:21] WARNING: ../src/learner.cc:1095: Starting in XGBoost 1.3.0, the default evaluation metric used with the objective 'binary:logistic' was changed from 'error' to 'logloss'. Explicitly set eval_metric if you'd like to restore the old behavior.\n",
      "train\n",
      "loss 0.5760275265749764\n",
      "score 0.4243007815470951\n",
      "\n",
      "\n",
      "eval\n",
      "loss 0.5422359049320221\n",
      "score 0.5318302930928469\n",
      "epoch: 7\n",
      "train\n",
      "loss 0.5517747928114498\n",
      "score 0.4606508905600406\n",
      "\n",
      "\n",
      "eval\n",
      "loss 0.538391363620758\n",
      "score 0.5318302930928469\n",
      "epoch: 8\n",
      "train\n",
      "loss 0.563204940627603\n",
      "score 0.4284074499091363\n",
      "\n",
      "\n",
      "eval\n",
      "loss 0.540704071521759\n",
      "score 0.5318302930928469\n",
      "epoch: 9\n",
      "train\n",
      "loss 0.5750131414217108\n",
      "score 0.42422329066829695\n",
      "\n",
      "\n",
      "eval\n",
      "loss 0.5437844753265381\n",
      "score 0.5318302930928469\n"
     ]
    }
   ],
   "source": [
    "train_scores, eval_scores, train_losses, eval_losses = main_cnn((input_dataset, lb_res))"
   ]
  },
  {
   "cell_type": "code",
   "execution_count": 25,
   "id": "f9c810a6",
   "metadata": {},
   "outputs": [
    {
     "data": {
      "image/png": "[encoded data removed]",
      "text/plain": [
       "<Figure size 720x360 with 1 Axes>"
      ]
     },
     "metadata": {
      "needs_background": "light"
     },
     "output_type": "display_data"
    },
    {
     "data": {
      "image/png": "[encoded data removed]",
      "text/plain": [
       "<Figure size 720x360 with 1 Axes>"
      ]
     },
     "metadata": {
      "needs_background": "light"
     },
     "output_type": "display_data"
    }
   ],
   "source": [
    "plt.figure(figsize=(10, 5))\n",
    "plt.title(\"losses\")\n",
    "plt.plot(train_losses, label=\"train\")\n",
    "plt.plot(eval_losses, label=\"validation\")\n",
    "plt.legend(loc=\"upper left\")\n",
    "\n",
    "plt.show()\n",
    "\n",
    "plt.figure(figsize=(10, 5))\n",
    "plt.title(\"scores\")\n",
    "plt.plot(train_scores, label=\"train\")\n",
    "plt.plot(eval_scores, label=\"validation\")\n",
    "plt.legend(loc=\"upper left\")\n",
    "\n",
    "plt.show()"
   ]
  },
  {
   "cell_type": "markdown",
   "id": "dd2b52fd",
   "metadata": {},
   "source": [
    "the best epoch of this DNN is 7 where we have the highest validation score and the lowest point on the validation loss"
   ]
  },
  {
   "cell_type": "markdown",
   "id": "ecdf0427",
   "metadata": {},
   "source": [
    "## Next Steps ##"
   ]
  },
  {
   "cell_type": "markdown",
   "id": "998d3d9e",
   "metadata": {},
   "source": [
    "We could try using our own trained word embeddings since it is rather obvious that the spasity of the tf - idf vectorization is driving our models to overfit, and word embeddings will give a much more dense represantation of our tokens."
   ]
  }
 ],
 "metadata": {
  "kernelspec": {
   "display_name": "Python 3",
   "language": "python",
   "name": "python3"
  },
  "language_info": {
   "codemirror_mode": {
    "name": "ipython",
    "version": 3
   },
   "file_extension": ".py",
   "mimetype": "text/x-python",
   "name": "python",
   "nbconvert_exporter": "python",
   "pygments_lexer": "ipython3",
   "version": "3.8.12"
  }
 },
 "nbformat": 4,
 "nbformat_minor": 5
}
