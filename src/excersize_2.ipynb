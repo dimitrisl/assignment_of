{
 "cells": [
  {
   "cell_type": "code",
   "execution_count": 1,
   "id": "6f553ab5",
   "metadata": {},
   "outputs": [],
   "source": [
    "import pandas as pd\n",
    "import numpy as np\n",
    "from sklearn.metrics import f1_score\n",
    "from sklearn.metrics import confusion_matrix\n",
    "from sklearn.model_selection import train_test_split\n",
    "from xgboost import XGBClassifier\n",
    "from sklearn.preprocessing import OneHotEncoder\n",
    "from sklearn.preprocessing import LabelEncoder\n",
    "from collections import Counter\n",
    "from sklearn.feature_extraction.text import TfidfVectorizer, CountVectorizer\n",
    "from xgboost import XGBClassifier\n",
    "from sklearn.linear_model import LogisticRegression\n",
    "import torch\n",
    "from sklearn.neural_network import MLPClassifier\n",
    "from sklearn.metrics import accuracy_score\n",
    "from sklearn.metrics import classification_report\n",
    "import matplotlib.pyplot as plt\n",
    "from sklearn.model_selection import learning_curve\n",
    "from sklearn.ensemble import RandomForestClassifier\n"
   ]
  },
  {
   "cell_type": "markdown",
   "id": "71c392fc",
   "metadata": {},
   "source": [
    "We provide the following dataset (ASSIGNMENT_2.csv):\n",
    "    \n",
    "| Composition title | Composition Writers | Recording Title | Recording Writes |Action |\n",
    "| --- | --- |--- | --- |--- |\n",
    "| Yellow submarine | Leo Ouha |Yellow submarine(remix) |Leo Ouha |Leo Ouha |ACCEPTED |\n",
    "| Shape of you | Ed Sheeran| Anaconda | Mick George | Roco Selto |Leo REJECTED |\n",
    "\n",
    "\n",
    "Train an ML/DL model for pair matching of compositions and recordings.\n",
    "Report and evaluate the results."
   ]
  },
  {
   "cell_type": "code",
   "execution_count": 2,
   "id": "cfa3208b",
   "metadata": {},
   "outputs": [],
   "source": [
    "input_dataset = pd.read_csv(\"dataset/ASSIGNMENT_2.csv\")"
   ]
  },
  {
   "cell_type": "code",
   "execution_count": 3,
   "id": "039599c7",
   "metadata": {},
   "outputs": [
    {
     "name": "stdout",
     "output_type": "stream",
     "text": [
      "['rejected' 'accepted' 'no decision' 'no_decision']\n"
     ]
    }
   ],
   "source": [
    "input_dataset = input_dataset.drop_duplicates().dropna()\n",
    "\n",
    "for col in list(input_dataset.columns):\n",
    "    input_dataset.loc[:, col] = input_dataset.loc[:, col].apply(lambda x: x.lower())\n",
    "\n",
    "print(input_dataset[\"Action\"].str.lower().unique())"
   ]
  },
  {
   "cell_type": "code",
   "execution_count": 4,
   "id": "35b325cd",
   "metadata": {},
   "outputs": [],
   "source": [
    "input_dataset.loc[input_dataset[\"Action\"] == 'no decision', \"Action\"] = \"no_decision\""
   ]
  },
  {
   "cell_type": "code",
   "execution_count": 5,
   "id": "ac5fa250",
   "metadata": {},
   "outputs": [],
   "source": [
    "input_dataset = input_dataset.loc[input_dataset[\"Action\"]!=\"no_decision\", :]\n",
    "# we drop the rows with \"no decision\" label since they don't offer us any information \n",
    "# wether we have a match or not."
   ]
  },
  {
   "cell_type": "code",
   "execution_count": 6,
   "id": "83a00a5a",
   "metadata": {},
   "outputs": [],
   "source": [
    "# input_dataset.dropna().drop_duplicates().shape"
   ]
  },
  {
   "cell_type": "code",
   "execution_count": 7,
   "id": "1319ef01",
   "metadata": {},
   "outputs": [
    {
     "data": {
      "text/plain": [
       "accepted    1485.0\n",
       "rejected     522.0\n",
       "dtype: float64"
      ]
     },
     "execution_count": 7,
     "metadata": {},
     "output_type": "execute_result"
    }
   ],
   "source": [
    "oe_style = OneHotEncoder()\n",
    "oe_results = oe_style.fit_transform(input_dataset[[\"Action\"]])\n",
    "oh_labels = pd.DataFrame(oe_results.toarray(), columns=oe_style.categories_)\n",
    "oh_labels.sum()"
   ]
  },
  {
   "cell_type": "code",
   "execution_count": 8,
   "id": "e358b9f0",
   "metadata": {},
   "outputs": [
    {
     "name": "stdout",
     "output_type": "stream",
     "text": [
      "Counter({0: 1485, 1: 522})\n"
     ]
    }
   ],
   "source": [
    "labelizer = LabelEncoder()\n",
    "lb_res = labelizer.fit_transform(input_dataset.loc[:, \"Action\"])\n",
    "\n",
    "input_dataset.loc[:, \"Action\"]= lb_res\n",
    "print(Counter(input_dataset[\"Action\"]))"
   ]
  },
  {
   "cell_type": "markdown",
   "id": "0a856534",
   "metadata": {},
   "source": [
    "In this kind of task we have to keep stopwords and punctuation it is important on these kind of texts (just like sentiment analysis)"
   ]
  },
  {
   "cell_type": "markdown",
   "id": "70bcc0ac",
   "metadata": {},
   "source": [
    "For starters we need to create a baseline to beat. So we could do a first run with a simple logistic regression and\n",
    "an XGBoost"
   ]
  },
  {
   "cell_type": "code",
   "execution_count": 9,
   "id": "6eeb372a",
   "metadata": {},
   "outputs": [
    {
     "data": {
      "text/html": [
       "<div>\n",
       "<style scoped>\n",
       "    .dataframe tbody tr th:only-of-type {\n",
       "        vertical-align: middle;\n",
       "    }\n",
       "\n",
       "    .dataframe tbody tr th {\n",
       "        vertical-align: top;\n",
       "    }\n",
       "\n",
       "    .dataframe thead th {\n",
       "        text-align: right;\n",
       "    }\n",
       "</style>\n",
       "<table border=\"1\" class=\"dataframe\">\n",
       "  <thead>\n",
       "    <tr style=\"text-align: right;\">\n",
       "      <th></th>\n",
       "      <th>Composition Title</th>\n",
       "      <th>Composition Writers</th>\n",
       "      <th>Recording Title</th>\n",
       "      <th>Recording Writers</th>\n",
       "      <th>Recording Artist</th>\n",
       "      <th>Action</th>\n",
       "    </tr>\n",
       "  </thead>\n",
       "  <tbody>\n",
       "    <tr>\n",
       "      <th>0</th>\n",
       "      <td>kokaina</td>\n",
       "      <td>yassine baybah|daniel dlouhy</td>\n",
       "      <td>kokaina</td>\n",
       "      <td>a baybah c dlouhy</td>\n",
       "      <td>miami yacine</td>\n",
       "      <td>1</td>\n",
       "    </tr>\n",
       "    <tr>\n",
       "      <th>1</th>\n",
       "      <td>por estar contigo</td>\n",
       "      <td>martinez escamilla,felipe de jesus</td>\n",
       "      <td>estar contigo</td>\n",
       "      <td>martinez de ubago rodriguez  alejandro</td>\n",
       "      <td>alex, jorge y lena</td>\n",
       "      <td>1</td>\n",
       "    </tr>\n",
       "  </tbody>\n",
       "</table>\n",
       "</div>"
      ],
      "text/plain": [
       "   Composition Title                 Composition Writers Recording Title  \\\n",
       "0            kokaina        yassine baybah|daniel dlouhy         kokaina   \n",
       "1  por estar contigo  martinez escamilla,felipe de jesus   estar contigo   \n",
       "\n",
       "                        Recording Writers    Recording Artist  Action  \n",
       "0                       a baybah c dlouhy        miami yacine       1  \n",
       "1  martinez de ubago rodriguez  alejandro  alex, jorge y lena       1  "
      ]
     },
     "execution_count": 9,
     "metadata": {},
     "output_type": "execute_result"
    }
   ],
   "source": [
    "input_dataset.head(2)"
   ]
  },
  {
   "cell_type": "markdown",
   "id": "e0aba437",
   "metadata": {},
   "source": [
    "In order to run any kind of machine learning model, we need to transform the features into tf-idf vectors.\n",
    "\n",
    "If we had more data i would've trained embeddings from the dataset."
   ]
  },
  {
   "cell_type": "code",
   "execution_count": 10,
   "id": "acd5ee9a",
   "metadata": {},
   "outputs": [],
   "source": [
    "def vectorizer(dataset):\n",
    "    tfidf_vect = dict()\n",
    "    tfidf_wm = dict()\n",
    "    for col in dataset.columns:\n",
    "        tfidf_vect[col] = TfidfVectorizer(analyzer='word', stop_words=\"english\")\n",
    "        tfidf_wm[col] = tfidf_vect[col].fit_transform(dataset[col])\n",
    "    return tfidf_vect, tfidf_wm\n",
    "\n",
    "def infer_vector(dataset, tfidf_vect):\n",
    "    tfidf_wm = dict()\n",
    "    for col in dataset.columns:\n",
    "        tfidf_wm[col] = tfidf_vect[col].fit_transform(dataset[col])\n",
    "    return tfidf_wm"
   ]
  },
  {
   "cell_type": "code",
   "execution_count": 11,
   "id": "ec65d100",
   "metadata": {},
   "outputs": [],
   "source": [
    "feature_cols = list(input_dataset.loc[:, input_dataset.columns!=\"Action\"].columns)"
   ]
  },
  {
   "cell_type": "code",
   "execution_count": 12,
   "id": "8d6742f5",
   "metadata": {},
   "outputs": [
    {
     "data": {
      "text/html": [
       "<div>\n",
       "<style scoped>\n",
       "    .dataframe tbody tr th:only-of-type {\n",
       "        vertical-align: middle;\n",
       "    }\n",
       "\n",
       "    .dataframe tbody tr th {\n",
       "        vertical-align: top;\n",
       "    }\n",
       "\n",
       "    .dataframe thead th {\n",
       "        text-align: right;\n",
       "    }\n",
       "</style>\n",
       "<table border=\"1\" class=\"dataframe\">\n",
       "  <thead>\n",
       "    <tr style=\"text-align: right;\">\n",
       "      <th></th>\n",
       "      <th>Composition Title</th>\n",
       "      <th>Composition Writers</th>\n",
       "      <th>Recording Title</th>\n",
       "      <th>Recording Writers</th>\n",
       "      <th>Recording Artist</th>\n",
       "    </tr>\n",
       "  </thead>\n",
       "  <tbody>\n",
       "    <tr>\n",
       "      <th>count</th>\n",
       "      <td>2007</td>\n",
       "      <td>2007</td>\n",
       "      <td>2007</td>\n",
       "      <td>2007</td>\n",
       "      <td>2007</td>\n",
       "    </tr>\n",
       "    <tr>\n",
       "      <th>unique</th>\n",
       "      <td>1802</td>\n",
       "      <td>1835</td>\n",
       "      <td>1897</td>\n",
       "      <td>1812</td>\n",
       "      <td>1660</td>\n",
       "    </tr>\n",
       "    <tr>\n",
       "      <th>top</th>\n",
       "      <td>flower of scotland</td>\n",
       "      <td>roy murdoch buchanan williamson</td>\n",
       "      <td>flower of scotland</td>\n",
       "      <td>traditional</td>\n",
       "      <td>various artists</td>\n",
       "    </tr>\n",
       "    <tr>\n",
       "      <th>freq</th>\n",
       "      <td>9</td>\n",
       "      <td>9</td>\n",
       "      <td>9</td>\n",
       "      <td>13</td>\n",
       "      <td>9</td>\n",
       "    </tr>\n",
       "  </tbody>\n",
       "</table>\n",
       "</div>"
      ],
      "text/plain": [
       "         Composition Title              Composition Writers  \\\n",
       "count                 2007                             2007   \n",
       "unique                1802                             1835   \n",
       "top     flower of scotland  roy murdoch buchanan williamson   \n",
       "freq                     9                                9   \n",
       "\n",
       "           Recording Title Recording Writers Recording Artist  \n",
       "count                 2007              2007             2007  \n",
       "unique                1897              1812             1660  \n",
       "top     flower of scotland       traditional  various artists  \n",
       "freq                     9                13                9  "
      ]
     },
     "execution_count": 12,
     "metadata": {},
     "output_type": "execute_result"
    }
   ],
   "source": [
    "input_dataset.loc[:, feature_cols].describe()"
   ]
  },
  {
   "cell_type": "code",
   "execution_count": 13,
   "id": "1dde2068",
   "metadata": {},
   "outputs": [],
   "source": [
    "vectorizer = TfidfVectorizer(analyzer='word', stop_words=\"english\")"
   ]
  },
  {
   "cell_type": "code",
   "execution_count": 14,
   "id": "edc69d06",
   "metadata": {},
   "outputs": [],
   "source": [
    "input_dataset.loc[:, feature_cols[0]] =  input_dataset.loc[:, feature_cols[1:]].apply(lambda x: \",\".join(x), axis=1)"
   ]
  },
  {
   "cell_type": "code",
   "execution_count": 15,
   "id": "0211a921",
   "metadata": {},
   "outputs": [],
   "source": [
    "input_dataset = pd.DataFrame(input_dataset.loc[:, feature_cols[0]])"
   ]
  },
  {
   "cell_type": "code",
   "execution_count": 16,
   "id": "ce49a8e8",
   "metadata": {},
   "outputs": [],
   "source": [
    "X_train, X_test, y_train, y_test = train_test_split(input_dataset, lb_res, shuffle=True, random_state=42, test_size=0.2)\n",
    "\n",
    "X_train  = vectorizer.fit_transform(X_train.iloc[:,0])\n",
    "X_test = vectorizer.transform(X_test.iloc[:, 0])"
   ]
  },
  {
   "cell_type": "markdown",
   "id": "d6b9f4f2",
   "metadata": {},
   "source": [
    "In order to proceed with more sofisticated solutions we need to enstablish a baseline first.\n",
    "\n",
    "The linear Regression is a good start for that purpose"
   ]
  },
  {
   "cell_type": "markdown",
   "id": "cfa571a6",
   "metadata": {},
   "source": [
    "Using a Linear Regression"
   ]
  },
  {
   "cell_type": "code",
   "execution_count": 17,
   "id": "19175c24",
   "metadata": {},
   "outputs": [],
   "source": [
    "def plot_learning_curve(estimator, title, X, y, ylim=None, cv=None,\n",
    "                        n_jobs=1, train_sizes=np.linspace(.1, 1.0, 10), scoring='f1_macro'):\n",
    "    plt.figure()\n",
    "    plt.title(title)\n",
    "    if ylim is not None:\n",
    "        plt.ylim(*ylim)\n",
    "    plt.xlabel(\"Training examples\")\n",
    "    plt.ylabel(\"Score\")\n",
    "    train_sizes, train_scores, test_scores = learning_curve(\n",
    "        estimator, X, y, cv=cv, n_jobs=n_jobs, train_sizes=train_sizes,\n",
    "        scoring=scoring)\n",
    "    train_scores_mean = np.mean(train_scores, axis=1)\n",
    "    train_scores_std = np.std(train_scores, axis=1)\n",
    "    test_scores_mean = np.mean(test_scores, axis=1)\n",
    "    test_scores_std = np.std(test_scores, axis=1)\n",
    "    plt.grid()\n",
    "\n",
    "    plt.fill_between(train_sizes, train_scores_mean - train_scores_std,\n",
    "                     train_scores_mean + train_scores_std, alpha=0.1,\n",
    "                     color=\"r\")\n",
    "    plt.fill_between(train_sizes, test_scores_mean - test_scores_std,\n",
    "                     test_scores_mean + test_scores_std, alpha=0.1, color=\"g\")\n",
    "    plt.plot(train_sizes, train_scores_mean, 'o-', color=\"r\",\n",
    "             label=\"Training score\")\n",
    "    plt.plot(train_sizes, test_scores_mean, 'o-', color=\"g\",\n",
    "             label=\"Cross-validation score\")\n",
    "\n",
    "    plt.legend(loc=\"best\")\n",
    "    return plt\n"
   ]
  },
  {
   "cell_type": "code",
   "execution_count": 18,
   "id": "f1efbe3b",
   "metadata": {},
   "outputs": [],
   "source": [
    "def get_results(ftt, f_test_t, y_tn, y_ts, classifier):\n",
    "    print(\"value\")\n",
    "    # train the model\n",
    "    classifier.fit(ftt, y_tn)\n",
    "    print(\"classifier accuracy {:.2f}%\".format(classifier.score(f_test_t, y_ts) * 100))\n",
    "    # even though ACCURACY IS NOT A RELIABLE METRIC HERE we have to include it in our sets of metrics.\n",
    "    labels = classifier.predict(f_test_t)\n",
    "    actual = y_ts\n",
    "    predicted = labels\n",
    "    results = confusion_matrix(actual, predicted)\n",
    "    print('Confusion Matrix :')\n",
    "    print(results)\n",
    "    print('Accuracy Score :', accuracy_score(actual, predicted))\n",
    "    print('Report : ')\n",
    "    print(classification_report(actual, predicted))\n",
    "    score_2 = f1_score(actual, predicted, average='binary')\n",
    "    print('F-Measure: %.3f' % score_2)\n",
    "    return classifier"
   ]
  },
  {
   "cell_type": "code",
   "execution_count": 19,
   "id": "ade553d4",
   "metadata": {},
   "outputs": [],
   "source": [
    "cv = 3\n",
    "\n",
    "# apply 3 fold cross validation to make sure are models are reliable (cv is set to 3 in order to be faster)"
   ]
  },
  {
   "cell_type": "code",
   "execution_count": 20,
   "id": "5cf513e8",
   "metadata": {},
   "outputs": [
    {
     "name": "stdout",
     "output_type": "stream",
     "text": [
      "value\n",
      "classifier accuracy 71.64%\n",
      "Confusion Matrix :\n",
      "[[284   2]\n",
      " [112   4]]\n",
      "Accuracy Score : 0.7164179104477612\n",
      "Report : \n",
      "              precision    recall  f1-score   support\n",
      "\n",
      "           0       0.72      0.99      0.83       286\n",
      "           1       0.67      0.03      0.07       116\n",
      "\n",
      "    accuracy                           0.72       402\n",
      "   macro avg       0.69      0.51      0.45       402\n",
      "weighted avg       0.70      0.72      0.61       402\n",
      "\n",
      "F-Measure: 0.066\n"
     ]
    },
    {
     "data": {
      "image/png": "[encoded data removed]",
      "text/plain": [
       "<Figure size 432x288 with 1 Axes>"
      ]
     },
     "metadata": {
      "needs_background": "light"
     },
     "output_type": "display_data"
    }
   ],
   "source": [
    "model = LogisticRegression(random_state=42)\n",
    "\n",
    "model = get_results(X_train, X_test,y_train, y_test, model)\n",
    "plotter = plot_learning_curve(model, \"%s\"%type(model).__name__, X_test, y_test, (0.1, 1.01), cv=cv, n_jobs=-1)\n",
    "plotter.show()"
   ]
  },
  {
   "cell_type": "code",
   "execution_count": 21,
   "id": "17b604ea",
   "metadata": {},
   "outputs": [
    {
     "name": "stdout",
     "output_type": "stream",
     "text": [
      "value\n",
      "classifier accuracy 70.90%\n",
      "Confusion Matrix :\n",
      "[[261  25]\n",
      " [ 92  24]]\n",
      "Accuracy Score : 0.7089552238805971\n",
      "Report : \n",
      "              precision    recall  f1-score   support\n",
      "\n",
      "           0       0.74      0.91      0.82       286\n",
      "           1       0.49      0.21      0.29       116\n",
      "\n",
      "    accuracy                           0.71       402\n",
      "   macro avg       0.61      0.56      0.55       402\n",
      "weighted avg       0.67      0.71      0.67       402\n",
      "\n",
      "F-Measure: 0.291\n"
     ]
    },
    {
     "data": {
      "image/png": "[encoded data removed]",
      "text/plain": [
       "<Figure size 432x288 with 1 Axes>"
      ]
     },
     "metadata": {
      "needs_background": "light"
     },
     "output_type": "display_data"
    }
   ],
   "source": [
    "model = RandomForestClassifier(random_state=42)\n",
    "\n",
    "model = get_results(X_train, X_test,y_train, y_test, model)\n",
    "plotter = plot_learning_curve(model, \"%s\"%type(model).__name__, X_test, y_test, (0.1, 1.01), cv=cv, n_jobs=-1)\n",
    "plotter.show()"
   ]
  },
  {
   "cell_type": "markdown",
   "id": "43b69912",
   "metadata": {},
   "source": [
    "Using an XGBoost classfier"
   ]
  },
  {
   "cell_type": "code",
   "execution_count": 22,
   "id": "fe1b517e",
   "metadata": {
    "scrolled": false
   },
   "outputs": [
    {
     "name": "stdout",
     "output_type": "stream",
     "text": [
      "value\n",
      "[10:36:49] WARNING: ../src/learner.cc:1095: Starting in XGBoost 1.3.0, the default evaluation metric used with the objective 'binary:logistic' was changed from 'error' to 'logloss'. Explicitly set eval_metric if you'd like to restore the old behavior.\n"
     ]
    },
    {
     "name": "stderr",
     "output_type": "stream",
     "text": [
      "/home/dlolis/Desktop/assignment/assignment_of/lib/python3.8/site-packages/xgboost/sklearn.py:1146: UserWarning: The use of label encoder in XGBClassifier is deprecated and will be removed in a future release. To remove this warning, do the following: 1) Pass option use_label_encoder=False when constructing XGBClassifier object; and 2) Encode your labels (y) as integers starting with 0, i.e. 0, 1, 2, ..., [num_class - 1].\n",
      "  warnings.warn(label_encoder_deprecation_msg, UserWarning)\n"
     ]
    },
    {
     "name": "stdout",
     "output_type": "stream",
     "text": [
      "classifier accuracy 67.41%\n",
      "Confusion Matrix :\n",
      "[[242  44]\n",
      " [ 87  29]]\n",
      "Accuracy Score : 0.6741293532338308\n",
      "Report : \n",
      "              precision    recall  f1-score   support\n",
      "\n",
      "           0       0.74      0.85      0.79       286\n",
      "           1       0.40      0.25      0.31       116\n",
      "\n",
      "    accuracy                           0.67       402\n",
      "   macro avg       0.57      0.55      0.55       402\n",
      "weighted avg       0.64      0.67      0.65       402\n",
      "\n",
      "F-Measure: 0.307\n"
     ]
    },
    {
     "data": {
      "image/png": "[encoded data removed]",
      "text/plain": [
       "<Figure size 432x288 with 1 Axes>"
      ]
     },
     "metadata": {
      "needs_background": "light"
     },
     "output_type": "display_data"
    }
   ],
   "source": [
    "model = XGBClassifier(random_state=42)\n",
    "\n",
    "model = get_results(X_train, X_test,y_train, y_test, model)\n",
    "plotter = plot_learning_curve(model, \"%s\"%type(model).__name__, X_test, y_test, (0.1, 1.01), cv=cv, n_jobs=-1)\n",
    "plotter.show()"
   ]
  },
  {
   "cell_type": "markdown",
   "id": "3734170e",
   "metadata": {},
   "source": [
    "Run a simple multilayer perceptron before we try deep neural net architecture"
   ]
  },
  {
   "cell_type": "code",
   "execution_count": 23,
   "id": "8a8fe2d8",
   "metadata": {},
   "outputs": [
    {
     "name": "stdout",
     "output_type": "stream",
     "text": [
      "value\n",
      "classifier accuracy 65.17%\n",
      "Confusion Matrix :\n",
      "[[236  50]\n",
      " [ 90  26]]\n",
      "Accuracy Score : 0.6517412935323383\n",
      "Report : \n",
      "              precision    recall  f1-score   support\n",
      "\n",
      "           0       0.72      0.83      0.77       286\n",
      "           1       0.34      0.22      0.27       116\n",
      "\n",
      "    accuracy                           0.65       402\n",
      "   macro avg       0.53      0.52      0.52       402\n",
      "weighted avg       0.61      0.65      0.63       402\n",
      "\n",
      "F-Measure: 0.271\n"
     ]
    },
    {
     "data": {
      "image/png": "[encoded data removed]",
      "text/plain": [
       "<Figure size 432x288 with 1 Axes>"
      ]
     },
     "metadata": {
      "needs_background": "light"
     },
     "output_type": "display_data"
    }
   ],
   "source": [
    "model = MLPClassifier(random_state=42)\n",
    "\n",
    "get_results(X_train, X_test,y_train, y_test, model)\n",
    "plotter = plot_learning_curve(model, \"%s\"%type(model).__name__, X_test, y_test, (0.1, 1.01), cv=cv, n_jobs=-1)\n",
    "plotter.show()"
   ]
  },
  {
   "cell_type": "markdown",
   "id": "c6b8f041",
   "metadata": {},
   "source": [
    "Given that we achieve low scores especially on the precision of class rejected (which makes sense because so far we have majority classifiers of class accepted). We could try using our own trained word embeddings since it is rather obvious that the spasity of the tf - idf vectorization is driving our models to overfit, and word embeddings will give a much more dense represantation of our tokens."
   ]
  },
  {
   "cell_type": "code",
   "execution_count": 43,
   "id": "8ebbe516",
   "metadata": {},
   "outputs": [
    {
     "data": {
      "text/html": [
       "<div>\n",
       "<style scoped>\n",
       "    .dataframe tbody tr th:only-of-type {\n",
       "        vertical-align: middle;\n",
       "    }\n",
       "\n",
       "    .dataframe tbody tr th {\n",
       "        vertical-align: top;\n",
       "    }\n",
       "\n",
       "    .dataframe thead th {\n",
       "        text-align: right;\n",
       "    }\n",
       "</style>\n",
       "<table border=\"1\" class=\"dataframe\">\n",
       "  <thead>\n",
       "    <tr style=\"text-align: right;\">\n",
       "      <th></th>\n",
       "      <th>Composition Title</th>\n",
       "    </tr>\n",
       "  </thead>\n",
       "  <tbody>\n",
       "    <tr>\n",
       "      <th>0</th>\n",
       "      <td>yassine baybah|daniel dlouhy,kokaina,a baybah ...</td>\n",
       "    </tr>\n",
       "    <tr>\n",
       "      <th>1</th>\n",
       "      <td>martinez escamilla,felipe de jesus,estar conti...</td>\n",
       "    </tr>\n",
       "    <tr>\n",
       "      <th>2</th>\n",
       "      <td>william alfred / karmin kharbouch / mario mims...</td>\n",
       "    </tr>\n",
       "    <tr>\n",
       "      <th>3</th>\n",
       "      <td>maher b/goodrum c,lesson in leavin',goodrum,jo...</td>\n",
       "    </tr>\n",
       "    <tr>\n",
       "      <th>4</th>\n",
       "      <td>kike santander,quédate en mis brazos,santander...</td>\n",
       "    </tr>\n",
       "    <tr>\n",
       "      <th>...</th>\n",
       "      <td>...</td>\n",
       "    </tr>\n",
       "    <tr>\n",
       "      <th>2565</th>\n",
       "      <td>baker arthur henry robie john,play at your own...</td>\n",
       "    </tr>\n",
       "    <tr>\n",
       "      <th>2567</th>\n",
       "      <td>nicholas audino|brian collins|lewis hughes|dij...</td>\n",
       "    </tr>\n",
       "    <tr>\n",
       "      <th>2570</th>\n",
       "      <td>brian may john newton,amazing grace (my chains...</td>\n",
       "    </tr>\n",
       "    <tr>\n",
       "      <th>2571</th>\n",
       "      <td>paul mccartney lennon,let it be me,john lennon...</td>\n",
       "    </tr>\n",
       "    <tr>\n",
       "      <th>2572</th>\n",
       "      <td>marella cayre gian pietro felisatti jose ramon...</td>\n",
       "    </tr>\n",
       "  </tbody>\n",
       "</table>\n",
       "<p>2007 rows × 1 columns</p>\n",
       "</div>"
      ],
      "text/plain": [
       "                                      Composition Title\n",
       "0     yassine baybah|daniel dlouhy,kokaina,a baybah ...\n",
       "1     martinez escamilla,felipe de jesus,estar conti...\n",
       "2     william alfred / karmin kharbouch / mario mims...\n",
       "3     maher b/goodrum c,lesson in leavin',goodrum,jo...\n",
       "4     kike santander,quédate en mis brazos,santander...\n",
       "...                                                 ...\n",
       "2565  baker arthur henry robie john,play at your own...\n",
       "2567  nicholas audino|brian collins|lewis hughes|dij...\n",
       "2570  brian may john newton,amazing grace (my chains...\n",
       "2571  paul mccartney lennon,let it be me,john lennon...\n",
       "2572  marella cayre gian pietro felisatti jose ramon...\n",
       "\n",
       "[2007 rows x 1 columns]"
      ]
     },
     "execution_count": 43,
     "metadata": {},
     "output_type": "execute_result"
    }
   ],
   "source": [
    "input_dataset"
   ]
  },
  {
   "cell_type": "code",
   "execution_count": 42,
   "id": "bd36bfae",
   "metadata": {},
   "outputs": [
    {
     "data": {
      "text/plain": [
       "8258"
      ]
     },
     "execution_count": 42,
     "metadata": {},
     "output_type": "execute_result"
    }
   ],
   "source": [
    "len(vectorizer.vocabulary_)"
   ]
  }
 ],
 "metadata": {
  "kernelspec": {
   "display_name": "Python 3",
   "language": "python",
   "name": "python3"
  },
  "language_info": {
   "codemirror_mode": {
    "name": "ipython",
    "version": 3
   },
   "file_extension": ".py",
   "mimetype": "text/x-python",
   "name": "python",
   "nbconvert_exporter": "python",
   "pygments_lexer": "ipython3",
   "version": "3.8.12"
  }
 },
 "nbformat": 4,
 "nbformat_minor": 5
}
