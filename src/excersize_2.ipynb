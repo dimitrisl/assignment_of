{
 "cells": [
  {
   "cell_type": "code",
   "execution_count": 1,
   "id": "6f553ab5",
   "metadata": {},
   "outputs": [],
   "source": [
    "import pandas as pd\n",
    "import numpy as np\n",
    "from sklearn.metrics import f1_score\n",
    "from sklearn.metrics import confusion_matrix\n",
    "from sklearn.model_selection import train_test_split\n",
    "from xgboost import XGBClassifier\n",
    "from sklearn.preprocessing import OneHotEncoder\n",
    "from sklearn.preprocessing import LabelEncoder\n",
    "from collections import Counter\n",
    "from sklearn.feature_extraction.text import TfidfVectorizer, CountVectorizer\n",
    "from xgboost import XGBClassifier\n",
    "from sklearn.linear_model import LogisticRegression\n",
    "import torch"
   ]
  },
  {
   "cell_type": "markdown",
   "id": "71c392fc",
   "metadata": {},
   "source": [
    "We provide the following dataset (ASSIGNMENT_2.csv):\n",
    "    \n",
    "| Composition title | Composition Writers | Recording Title | Recording Writes |Action |\n",
    "| --- | --- |--- | --- |--- |\n",
    "| Yellow submarine | Leo Ouha |Yellow submarine(remix) |Leo Ouha |Leo Ouha |ACCEPTED |\n",
    "| Shape of you | Ed Sheeran| Anaconda | Mick George | Roco Selto |Leo REJECTED |\n",
    "\n",
    "\n",
    "Train an ML/DL model for pair matching of compositions and recordings.\n",
    "Report and evaluate the results."
   ]
  },
  {
   "cell_type": "code",
   "execution_count": 2,
   "id": "cfa3208b",
   "metadata": {},
   "outputs": [],
   "source": [
    "input_dataset = pd.read_csv(\"dataset/ASSIGNMENT_2.csv\")"
   ]
  },
  {
   "cell_type": "code",
   "execution_count": 3,
   "id": "039599c7",
   "metadata": {},
   "outputs": [
    {
     "name": "stdout",
     "output_type": "stream",
     "text": [
      "['rejected' 'accepted' 'no decision' 'no_decision']\n"
     ]
    }
   ],
   "source": [
    "input_dataset = input_dataset.drop_duplicates().dropna()\n",
    "\n",
    "for col in list(input_dataset.columns):\n",
    "    input_dataset.loc[:, col] = input_dataset.loc[:, col].apply(lambda x: x.lower())\n",
    "\n",
    "print(input_dataset[\"Action\"].str.lower().unique())"
   ]
  },
  {
   "cell_type": "code",
   "execution_count": 4,
   "id": "35b325cd",
   "metadata": {},
   "outputs": [],
   "source": [
    "input_dataset.loc[input_dataset[\"Action\"] == 'no decision', \"Action\"] = \"no_decision\""
   ]
  },
  {
   "cell_type": "code",
   "execution_count": 5,
   "id": "ac5fa250",
   "metadata": {},
   "outputs": [],
   "source": [
    "input_dataset = input_dataset.loc[input_dataset[\"Action\"]!=\"no_decision\", :]"
   ]
  },
  {
   "cell_type": "code",
   "execution_count": 6,
   "id": "83a00a5a",
   "metadata": {},
   "outputs": [],
   "source": [
    "# input_dataset.dropna().drop_duplicates().shape"
   ]
  },
  {
   "cell_type": "code",
   "execution_count": 7,
   "id": "1319ef01",
   "metadata": {},
   "outputs": [
    {
     "data": {
      "text/plain": [
       "accepted    1485.0\n",
       "rejected     522.0\n",
       "dtype: float64"
      ]
     },
     "execution_count": 7,
     "metadata": {},
     "output_type": "execute_result"
    }
   ],
   "source": [
    "oe_style = OneHotEncoder()\n",
    "oe_results = oe_style.fit_transform(input_dataset[[\"Action\"]])\n",
    "oh_labels = pd.DataFrame(oe_results.toarray(), columns=oe_style.categories_)\n",
    "oh_labels.sum()"
   ]
  },
  {
   "cell_type": "code",
   "execution_count": 8,
   "id": "e358b9f0",
   "metadata": {},
   "outputs": [
    {
     "name": "stdout",
     "output_type": "stream",
     "text": [
      "Counter({0: 1485, 1: 522})\n"
     ]
    }
   ],
   "source": [
    "labelizer = LabelEncoder()\n",
    "lb_res = labelizer.fit_transform(input_dataset.loc[:, \"Action\"])\n",
    "\n",
    "input_dataset.loc[:, \"Action\"]= lb_res\n",
    "print(Counter(input_dataset[\"Action\"]))"
   ]
  },
  {
   "cell_type": "code",
   "execution_count": 9,
   "id": "be7a892e",
   "metadata": {},
   "outputs": [],
   "source": [
    "# in this kind of task we have to keep stopwords and punctuation it is important on these kind of texts (just like sentiment analysis)"
   ]
  },
  {
   "cell_type": "code",
   "execution_count": 10,
   "id": "0c401672",
   "metadata": {},
   "outputs": [],
   "source": [
    "# For starters we need to create a baseline to beat. So we could do a first run with a simple logistic regression and\n",
    "# an XGBoost"
   ]
  },
  {
   "cell_type": "code",
   "execution_count": 11,
   "id": "6eeb372a",
   "metadata": {},
   "outputs": [
    {
     "data": {
      "text/html": [
       "<div>\n",
       "<style scoped>\n",
       "    .dataframe tbody tr th:only-of-type {\n",
       "        vertical-align: middle;\n",
       "    }\n",
       "\n",
       "    .dataframe tbody tr th {\n",
       "        vertical-align: top;\n",
       "    }\n",
       "\n",
       "    .dataframe thead th {\n",
       "        text-align: right;\n",
       "    }\n",
       "</style>\n",
       "<table border=\"1\" class=\"dataframe\">\n",
       "  <thead>\n",
       "    <tr style=\"text-align: right;\">\n",
       "      <th></th>\n",
       "      <th>Composition Title</th>\n",
       "      <th>Composition Writers</th>\n",
       "      <th>Recording Title</th>\n",
       "      <th>Recording Writers</th>\n",
       "      <th>Recording Artist</th>\n",
       "      <th>Action</th>\n",
       "    </tr>\n",
       "  </thead>\n",
       "  <tbody>\n",
       "    <tr>\n",
       "      <th>0</th>\n",
       "      <td>kokaina</td>\n",
       "      <td>yassine baybah|daniel dlouhy</td>\n",
       "      <td>kokaina</td>\n",
       "      <td>a baybah c dlouhy</td>\n",
       "      <td>miami yacine</td>\n",
       "      <td>1</td>\n",
       "    </tr>\n",
       "    <tr>\n",
       "      <th>1</th>\n",
       "      <td>por estar contigo</td>\n",
       "      <td>martinez escamilla,felipe de jesus</td>\n",
       "      <td>estar contigo</td>\n",
       "      <td>martinez de ubago rodriguez  alejandro</td>\n",
       "      <td>alex, jorge y lena</td>\n",
       "      <td>1</td>\n",
       "    </tr>\n",
       "  </tbody>\n",
       "</table>\n",
       "</div>"
      ],
      "text/plain": [
       "   Composition Title                 Composition Writers Recording Title  \\\n",
       "0            kokaina        yassine baybah|daniel dlouhy         kokaina   \n",
       "1  por estar contigo  martinez escamilla,felipe de jesus   estar contigo   \n",
       "\n",
       "                        Recording Writers    Recording Artist  Action  \n",
       "0                       a baybah c dlouhy        miami yacine       1  \n",
       "1  martinez de ubago rodriguez  alejandro  alex, jorge y lena       1  "
      ]
     },
     "execution_count": 11,
     "metadata": {},
     "output_type": "execute_result"
    }
   ],
   "source": [
    "input_dataset.head(2)"
   ]
  },
  {
   "cell_type": "markdown",
   "id": "e0aba437",
   "metadata": {},
   "source": [
    "In order to run any kind of machine learning model, we need to transform the features into tf-idf vectors.\n",
    "\n",
    "If we had more data i would've trained embeddings from the dataset."
   ]
  },
  {
   "cell_type": "code",
   "execution_count": 12,
   "id": "acd5ee9a",
   "metadata": {},
   "outputs": [],
   "source": [
    "def vectorizer(dataset):\n",
    "    tfidf_vect = dict()\n",
    "    tfidf_wm = dict()\n",
    "    for col in dataset.columns:\n",
    "        tfidf_vect[col] = TfidfVectorizer(analyzer='word', stop_words=\"english\")\n",
    "        tfidf_wm[col] = tfidf_vect[col].fit_transform(dataset[col])\n",
    "    return tfidf_vect, tfidf_wm\n",
    "\n",
    "def infer_vector(dataset, tfidf_vect):\n",
    "    tfidf_wm = dict()\n",
    "    for col in dataset.columns:\n",
    "        tfidf_wm[col] = tfidf_vect[col].fit_transform(dataset[col])\n",
    "    return tfidf_wm"
   ]
  },
  {
   "cell_type": "code",
   "execution_count": 13,
   "id": "ec65d100",
   "metadata": {},
   "outputs": [],
   "source": [
    "feature_cols = list(input_dataset.loc[:, input_dataset.columns!=\"Action\"].columns)"
   ]
  },
  {
   "cell_type": "code",
   "execution_count": 14,
   "id": "8d6742f5",
   "metadata": {},
   "outputs": [
    {
     "data": {
      "text/html": [
       "<div>\n",
       "<style scoped>\n",
       "    .dataframe tbody tr th:only-of-type {\n",
       "        vertical-align: middle;\n",
       "    }\n",
       "\n",
       "    .dataframe tbody tr th {\n",
       "        vertical-align: top;\n",
       "    }\n",
       "\n",
       "    .dataframe thead th {\n",
       "        text-align: right;\n",
       "    }\n",
       "</style>\n",
       "<table border=\"1\" class=\"dataframe\">\n",
       "  <thead>\n",
       "    <tr style=\"text-align: right;\">\n",
       "      <th></th>\n",
       "      <th>Composition Title</th>\n",
       "      <th>Composition Writers</th>\n",
       "      <th>Recording Title</th>\n",
       "      <th>Recording Writers</th>\n",
       "      <th>Recording Artist</th>\n",
       "    </tr>\n",
       "  </thead>\n",
       "  <tbody>\n",
       "    <tr>\n",
       "      <th>count</th>\n",
       "      <td>2007</td>\n",
       "      <td>2007</td>\n",
       "      <td>2007</td>\n",
       "      <td>2007</td>\n",
       "      <td>2007</td>\n",
       "    </tr>\n",
       "    <tr>\n",
       "      <th>unique</th>\n",
       "      <td>1802</td>\n",
       "      <td>1835</td>\n",
       "      <td>1897</td>\n",
       "      <td>1812</td>\n",
       "      <td>1660</td>\n",
       "    </tr>\n",
       "    <tr>\n",
       "      <th>top</th>\n",
       "      <td>flower of scotland</td>\n",
       "      <td>roy murdoch buchanan williamson</td>\n",
       "      <td>flower of scotland</td>\n",
       "      <td>traditional</td>\n",
       "      <td>various artists</td>\n",
       "    </tr>\n",
       "    <tr>\n",
       "      <th>freq</th>\n",
       "      <td>9</td>\n",
       "      <td>9</td>\n",
       "      <td>9</td>\n",
       "      <td>13</td>\n",
       "      <td>9</td>\n",
       "    </tr>\n",
       "  </tbody>\n",
       "</table>\n",
       "</div>"
      ],
      "text/plain": [
       "         Composition Title              Composition Writers  \\\n",
       "count                 2007                             2007   \n",
       "unique                1802                             1835   \n",
       "top     flower of scotland  roy murdoch buchanan williamson   \n",
       "freq                     9                                9   \n",
       "\n",
       "           Recording Title Recording Writers Recording Artist  \n",
       "count                 2007              2007             2007  \n",
       "unique                1897              1812             1660  \n",
       "top     flower of scotland       traditional  various artists  \n",
       "freq                     9                13                9  "
      ]
     },
     "execution_count": 14,
     "metadata": {},
     "output_type": "execute_result"
    }
   ],
   "source": [
    "input_dataset.loc[:, feature_cols].describe()"
   ]
  },
  {
   "cell_type": "code",
   "execution_count": 15,
   "id": "1dde2068",
   "metadata": {},
   "outputs": [],
   "source": [
    "vectorizer = TfidfVectorizer(analyzer='word', stop_words=\"english\")\n"
   ]
  },
  {
   "cell_type": "code",
   "execution_count": 16,
   "id": "edc69d06",
   "metadata": {},
   "outputs": [],
   "source": [
    "input_dataset.loc[:, feature_cols[0]] =  input_dataset.loc[:, feature_cols[1:]].apply(lambda x: \",\".join(x), axis=1)"
   ]
  },
  {
   "cell_type": "code",
   "execution_count": 17,
   "id": "0211a921",
   "metadata": {},
   "outputs": [],
   "source": [
    "input_dataset = pd.DataFrame(input_dataset.loc[:, feature_cols[0]])"
   ]
  },
  {
   "cell_type": "code",
   "execution_count": null,
   "id": "6e8aed80",
   "metadata": {},
   "outputs": [],
   "source": []
  },
  {
   "cell_type": "code",
   "execution_count": 18,
   "id": "ce49a8e8",
   "metadata": {},
   "outputs": [],
   "source": [
    "X_train, X_test, y_train, y_test = train_test_split(input_dataset, lb_res, shuffle=True, random_state=42, test_size=0.2)\n",
    "\n",
    "X_train  = vectorizer.fit_transform(X_train.iloc[:,0])\n",
    "X_test = vectorizer.transform(X_test.iloc[:, 0])"
   ]
  },
  {
   "cell_type": "markdown",
   "id": "d6b9f4f2",
   "metadata": {},
   "source": [
    "In order to proceed with more sofisticated solutions we need to enstablish a baseline first.\n",
    "\n",
    "The linear Regression is a good start for that purpose"
   ]
  },
  {
   "cell_type": "markdown",
   "id": "cfa571a6",
   "metadata": {},
   "source": [
    "Using a Linear Regression"
   ]
  },
  {
   "cell_type": "code",
   "execution_count": 19,
   "id": "5cf513e8",
   "metadata": {},
   "outputs": [
    {
     "name": "stdout",
     "output_type": "stream",
     "text": [
      "0.06557377049180328\n",
      "[[284 112]\n",
      " [  2   4]]\n"
     ]
    }
   ],
   "source": [
    "model = LogisticRegression()\n",
    "\n",
    "model.fit(X_train, y_train)\n",
    "\n",
    "y_pred = model.predict(X_test)\n",
    "\n",
    "print(f1_score(y_pred, y_test))\n",
    "print(confusion_matrix(y_pred, y_test))"
   ]
  },
  {
   "cell_type": "markdown",
   "id": "43b69912",
   "metadata": {},
   "source": [
    "Using an XGBoost classfier"
   ]
  },
  {
   "cell_type": "code",
   "execution_count": 20,
   "id": "fe1b517e",
   "metadata": {
    "scrolled": true
   },
   "outputs": [
    {
     "name": "stdout",
     "output_type": "stream",
     "text": [
      "[01:44:16] WARNING: ../src/learner.cc:1095: Starting in XGBoost 1.3.0, the default evaluation metric used with the objective 'binary:logistic' was changed from 'error' to 'logloss'. Explicitly set eval_metric if you'd like to restore the old behavior.\n"
     ]
    },
    {
     "name": "stderr",
     "output_type": "stream",
     "text": [
      "/home/dlolis/Desktop/assignment/assignment_of/lib/python3.8/site-packages/xgboost/sklearn.py:1146: UserWarning: The use of label encoder in XGBClassifier is deprecated and will be removed in a future release. To remove this warning, do the following: 1) Pass option use_label_encoder=False when constructing XGBClassifier object; and 2) Encode your labels (y) as integers starting with 0, i.e. 0, 1, 2, ..., [num_class - 1].\n",
      "  warnings.warn(label_encoder_deprecation_msg, UserWarning)\n"
     ]
    },
    {
     "name": "stdout",
     "output_type": "stream",
     "text": [
      "0.30687830687830686\n"
     ]
    }
   ],
   "source": [
    "model = XGBClassifier()\n",
    "\n",
    "model.fit(X_train, y_train)\n",
    "\n",
    "y_pred = model.predict(X_test)\n",
    "\n",
    "print(f1_score(y_pred, y_test))"
   ]
  },
  {
   "cell_type": "code",
   "execution_count": 21,
   "id": "96d8ad34",
   "metadata": {},
   "outputs": [
    {
     "data": {
      "text/plain": [
       "array([[242,  87],\n",
       "       [ 44,  29]])"
      ]
     },
     "execution_count": 21,
     "metadata": {},
     "output_type": "execute_result"
    }
   ],
   "source": [
    "confusion_matrix(y_pred, y_test)"
   ]
  },
  {
   "cell_type": "code",
   "execution_count": 22,
   "id": "5d23a073",
   "metadata": {},
   "outputs": [
    {
     "name": "stdout",
     "output_type": "stream",
     "text": [
      "epoch: 0\n"
     ]
    },
    {
     "ename": "RuntimeError",
     "evalue": "torch.cat(): Sizes of tensors must match except in dimension 1. Got 48 and 47 in dimension 2 (The offending index is 1)",
     "output_type": "error",
     "traceback": [
      "\u001b[0;31m---------------------------------------------------------------------------\u001b[0m",
      "\u001b[0;31mRuntimeError\u001b[0m                              Traceback (most recent call last)",
      "\u001b[0;32m/tmp/ipykernel_32472/2719244230.py\u001b[0m in \u001b[0;36m<module>\u001b[0;34m\u001b[0m\n\u001b[0;32m----> 1\u001b[0;31m \u001b[0;32mfrom\u001b[0m \u001b[0mmodels\u001b[0m \u001b[0;32mimport\u001b[0m \u001b[0mcnn_pipeline\u001b[0m\u001b[0;34m\u001b[0m\u001b[0;34m\u001b[0m\u001b[0m\n\u001b[0m",
      "\u001b[0;32m~/Desktop/assignment/assignment_of/src/models.py\u001b[0m in \u001b[0;36m<module>\u001b[0;34m\u001b[0m\n\u001b[1;32m    125\u001b[0m \u001b[0;34m\u001b[0m\u001b[0m\n\u001b[1;32m    126\u001b[0m \u001b[0;34m(\u001b[0m\u001b[0mX_train\u001b[0m\u001b[0;34m,\u001b[0m \u001b[0mX_test\u001b[0m\u001b[0;34m,\u001b[0m \u001b[0my_train\u001b[0m\u001b[0;34m,\u001b[0m \u001b[0my_test\u001b[0m\u001b[0;34m)\u001b[0m \u001b[0;34m=\u001b[0m \u001b[0mdata\u001b[0m\u001b[0;34m\u001b[0m\u001b[0;34m\u001b[0m\u001b[0m\n\u001b[0;32m--> 127\u001b[0;31m \u001b[0mcnn_pipeline\u001b[0m\u001b[0;34m(\u001b[0m\u001b[0mX_train\u001b[0m\u001b[0;34m,\u001b[0m \u001b[0mX_test\u001b[0m\u001b[0;34m,\u001b[0m \u001b[0my_train\u001b[0m\u001b[0;34m,\u001b[0m \u001b[0my_test\u001b[0m\u001b[0;34m)\u001b[0m\u001b[0;34m\u001b[0m\u001b[0;34m\u001b[0m\u001b[0m\n\u001b[0m",
      "\u001b[0;32m~/Desktop/assignment/assignment_of/src/models.py\u001b[0m in \u001b[0;36mcnn_pipeline\u001b[0;34m(X_train, X_test, y_train, y_test)\u001b[0m\n\u001b[1;32m    105\u001b[0m     \u001b[0;32mfor\u001b[0m \u001b[0mi\u001b[0m \u001b[0;32min\u001b[0m \u001b[0mrange\u001b[0m\u001b[0;34m(\u001b[0m\u001b[0mEPOCHS\u001b[0m\u001b[0;34m)\u001b[0m\u001b[0;34m:\u001b[0m\u001b[0;34m\u001b[0m\u001b[0;34m\u001b[0m\u001b[0m\n\u001b[1;32m    106\u001b[0m         \u001b[0mprint\u001b[0m\u001b[0;34m(\u001b[0m\u001b[0;34m\"epoch: %s\"\u001b[0m \u001b[0;34m%\u001b[0m \u001b[0mi\u001b[0m\u001b[0;34m)\u001b[0m\u001b[0;34m\u001b[0m\u001b[0;34m\u001b[0m\u001b[0m\n\u001b[0;32m--> 107\u001b[0;31m         \u001b[0mtrain_loss\u001b[0m\u001b[0;34m,\u001b[0m \u001b[0mtrain_score\u001b[0m \u001b[0;34m=\u001b[0m \u001b[0mtrain_epoch\u001b[0m\u001b[0;34m(\u001b[0m\u001b[0mi\u001b[0m\u001b[0;34m,\u001b[0m \u001b[0mtrain_loader\u001b[0m\u001b[0;34m,\u001b[0m \u001b[0mmodel\u001b[0m\u001b[0;34m,\u001b[0m \u001b[0mcriterion\u001b[0m\u001b[0;34m,\u001b[0m \u001b[0moptimizer\u001b[0m\u001b[0;34m,\u001b[0m \u001b[0;34m\"train\"\u001b[0m\u001b[0;34m)\u001b[0m\u001b[0;34m\u001b[0m\u001b[0;34m\u001b[0m\u001b[0m\n\u001b[0m\u001b[1;32m    108\u001b[0m         \u001b[0mprint\u001b[0m\u001b[0;34m(\u001b[0m\u001b[0;34m\"\\n\"\u001b[0m\u001b[0;34m)\u001b[0m\u001b[0;34m\u001b[0m\u001b[0;34m\u001b[0m\u001b[0m\n\u001b[1;32m    109\u001b[0m         \u001b[0meval_loss\u001b[0m\u001b[0;34m,\u001b[0m \u001b[0meval_score\u001b[0m \u001b[0;34m=\u001b[0m \u001b[0mtrain_epoch\u001b[0m\u001b[0;34m(\u001b[0m\u001b[0mi\u001b[0m\u001b[0;34m,\u001b[0m \u001b[0meval_loader\u001b[0m\u001b[0;34m,\u001b[0m \u001b[0mmodel\u001b[0m\u001b[0;34m,\u001b[0m \u001b[0mcriterion\u001b[0m\u001b[0;34m,\u001b[0m \u001b[0moptimizer\u001b[0m\u001b[0;34m,\u001b[0m \u001b[0;34m\"eval\"\u001b[0m\u001b[0;34m)\u001b[0m\u001b[0;34m\u001b[0m\u001b[0;34m\u001b[0m\u001b[0m\n",
      "\u001b[0;32m~/Desktop/assignment/assignment_of/src/models.py\u001b[0m in \u001b[0;36mtrain_epoch\u001b[0;34m(_epoch, dataloader, model, loss_function, optimizer, ev_tr)\u001b[0m\n\u001b[1;32m     40\u001b[0m \u001b[0;34m\u001b[0m\u001b[0m\n\u001b[1;32m     41\u001b[0m         \u001b[0;31m# 2 - forward pass: compute predicted y by passing x to the model\u001b[0m\u001b[0;34m\u001b[0m\u001b[0;34m\u001b[0m\u001b[0;34m\u001b[0m\u001b[0m\n\u001b[0;32m---> 42\u001b[0;31m         \u001b[0moutputs\u001b[0m \u001b[0;34m=\u001b[0m \u001b[0mmodel\u001b[0m\u001b[0;34m(\u001b[0m\u001b[0minputs\u001b[0m\u001b[0;34m)\u001b[0m\u001b[0;34m\u001b[0m\u001b[0;34m\u001b[0m\u001b[0m\n\u001b[0m\u001b[1;32m     43\u001b[0m         \u001b[0;31m# 3 - compute loss\u001b[0m\u001b[0;34m\u001b[0m\u001b[0;34m\u001b[0m\u001b[0;34m\u001b[0m\u001b[0m\n\u001b[1;32m     44\u001b[0m         \u001b[0mprint\u001b[0m\u001b[0;34m(\u001b[0m\u001b[0moutputs\u001b[0m\u001b[0;34m)\u001b[0m\u001b[0;34m\u001b[0m\u001b[0;34m\u001b[0m\u001b[0m\n",
      "\u001b[0;32m~/Desktop/assignment/assignment_of/lib/python3.8/site-packages/torch/nn/modules/module.py\u001b[0m in \u001b[0;36m_call_impl\u001b[0;34m(self, *input, **kwargs)\u001b[0m\n\u001b[1;32m   1049\u001b[0m         if not (self._backward_hooks or self._forward_hooks or self._forward_pre_hooks or _global_backward_hooks\n\u001b[1;32m   1050\u001b[0m                 or _global_forward_hooks or _global_forward_pre_hooks):\n\u001b[0;32m-> 1051\u001b[0;31m             \u001b[0;32mreturn\u001b[0m \u001b[0mforward_call\u001b[0m\u001b[0;34m(\u001b[0m\u001b[0;34m*\u001b[0m\u001b[0minput\u001b[0m\u001b[0;34m,\u001b[0m \u001b[0;34m**\u001b[0m\u001b[0mkwargs\u001b[0m\u001b[0;34m)\u001b[0m\u001b[0;34m\u001b[0m\u001b[0;34m\u001b[0m\u001b[0m\n\u001b[0m\u001b[1;32m   1052\u001b[0m         \u001b[0;31m# Do not call functions when jit is used\u001b[0m\u001b[0;34m\u001b[0m\u001b[0;34m\u001b[0m\u001b[0;34m\u001b[0m\u001b[0m\n\u001b[1;32m   1053\u001b[0m         \u001b[0mfull_backward_hooks\u001b[0m\u001b[0;34m,\u001b[0m \u001b[0mnon_full_backward_hooks\u001b[0m \u001b[0;34m=\u001b[0m \u001b[0;34m[\u001b[0m\u001b[0;34m]\u001b[0m\u001b[0;34m,\u001b[0m \u001b[0;34m[\u001b[0m\u001b[0;34m]\u001b[0m\u001b[0;34m\u001b[0m\u001b[0;34m\u001b[0m\u001b[0m\n",
      "\u001b[0;32m~/Desktop/assignment/assignment_of/src/models.py\u001b[0m in \u001b[0;36mforward\u001b[0;34m(self, x)\u001b[0m\n\u001b[1;32m     72\u001b[0m         \u001b[0minputs\u001b[0m \u001b[0;34m=\u001b[0m \u001b[0;34m[\u001b[0m\u001b[0mtorch\u001b[0m\u001b[0;34m.\u001b[0m\u001b[0mrelu\u001b[0m\u001b[0;34m(\u001b[0m\u001b[0mconv\u001b[0m\u001b[0;34m(\u001b[0m\u001b[0minputs\u001b[0m\u001b[0;34m)\u001b[0m\u001b[0;34m)\u001b[0m\u001b[0;34m.\u001b[0m\u001b[0msqueeze\u001b[0m\u001b[0;34m(\u001b[0m\u001b[0;36m3\u001b[0m\u001b[0;34m)\u001b[0m \u001b[0;32mfor\u001b[0m \u001b[0mconv\u001b[0m \u001b[0;32min\u001b[0m \u001b[0mself\u001b[0m\u001b[0;34m.\u001b[0m\u001b[0mconvs\u001b[0m\u001b[0;34m]\u001b[0m  \u001b[0;31m# [(N,Co,W), ...]*len(Ks)\u001b[0m\u001b[0;34m\u001b[0m\u001b[0;34m\u001b[0m\u001b[0m\n\u001b[1;32m     73\u001b[0m         \u001b[0;31m# inputs = [torch.max_pool2d(i, i.size(2)).squeeze(2) for i in inputs]  # [(N,Co), ...]*len(Ks)\u001b[0m\u001b[0;34m\u001b[0m\u001b[0;34m\u001b[0m\u001b[0;34m\u001b[0m\u001b[0m\n\u001b[0;32m---> 74\u001b[0;31m         \u001b[0mconcated\u001b[0m \u001b[0;34m=\u001b[0m \u001b[0mtorch\u001b[0m\u001b[0;34m.\u001b[0m\u001b[0mcat\u001b[0m\u001b[0;34m(\u001b[0m\u001b[0minputs\u001b[0m\u001b[0;34m,\u001b[0m \u001b[0;36m1\u001b[0m\u001b[0;34m)\u001b[0m\u001b[0;34m\u001b[0m\u001b[0;34m\u001b[0m\u001b[0m\n\u001b[0m\u001b[1;32m     75\u001b[0m         \u001b[0mprint\u001b[0m\u001b[0;34m(\u001b[0m\u001b[0mconcated\u001b[0m\u001b[0;34m.\u001b[0m\u001b[0mshape\u001b[0m\u001b[0;34m)\u001b[0m\u001b[0;34m\u001b[0m\u001b[0;34m\u001b[0m\u001b[0m\n\u001b[1;32m     76\u001b[0m         \u001b[0mout\u001b[0m \u001b[0;34m=\u001b[0m \u001b[0mself\u001b[0m\u001b[0;34m.\u001b[0m\u001b[0mfc\u001b[0m\u001b[0;34m(\u001b[0m\u001b[0mconcated\u001b[0m\u001b[0;34m)\u001b[0m\u001b[0;34m\u001b[0m\u001b[0;34m\u001b[0m\u001b[0m\n",
      "\u001b[0;31mRuntimeError\u001b[0m: torch.cat(): Sizes of tensors must match except in dimension 1. Got 48 and 47 in dimension 2 (The offending index is 1)"
     ]
    }
   ],
   "source": [
    "from models import cnn_pipeline"
   ]
  },
  {
   "cell_type": "code",
   "execution_count": null,
   "id": "621fd221",
   "metadata": {},
   "outputs": [],
   "source": []
  },
  {
   "cell_type": "code",
   "execution_count": null,
   "id": "2a8858f5",
   "metadata": {},
   "outputs": [],
   "source": [
    "y_train"
   ]
  },
  {
   "cell_type": "code",
   "execution_count": null,
   "id": "d91fcb7e",
   "metadata": {},
   "outputs": [],
   "source": [
    "lala = (X_train.toarray(), X_test.toarray(), y_train, y_test)\n",
    "\n",
    "import pickle\n",
    "\n",
    "with open(\"lala.pkl\", \"wb\") as fil:\n",
    "    pickle.dump(lala, fil)"
   ]
  },
  {
   "cell_type": "code",
   "execution_count": null,
   "id": "fcf3b3a3",
   "metadata": {},
   "outputs": [],
   "source": [
    "cnn_pipeline(X_train.toarray(), X_test.toarray(), y_train, y_test)"
   ]
  }
 ],
 "metadata": {
  "kernelspec": {
   "display_name": "Python 3",
   "language": "python",
   "name": "python3"
  },
  "language_info": {
   "codemirror_mode": {
    "name": "ipython",
    "version": 3
   },
   "file_extension": ".py",
   "mimetype": "text/x-python",
   "name": "python",
   "nbconvert_exporter": "python",
   "pygments_lexer": "ipython3",
   "version": "3.8.12"
  }
 },
 "nbformat": 4,
 "nbformat_minor": 5
}
