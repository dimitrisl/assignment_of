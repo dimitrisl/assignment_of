{
 "cells": [
  {
   "cell_type": "code",
   "execution_count": 1,
   "id": "6f553ab5",
   "metadata": {
    "scrolled": true
   },
   "outputs": [],
   "source": [
    "import pandas as pd\n",
    "import numpy as np\n",
    "from sklearn.metrics import f1_score\n",
    "from sklearn.metrics import confusion_matrix\n",
    "from sklearn.model_selection import train_test_split\n",
    "from xgboost import XGBClassifier\n",
    "from sklearn.preprocessing import LabelEncoder\n",
    "from collections import Counter\n",
    "from sklearn.feature_extraction.text import TfidfVectorizer, CountVectorizer\n",
    "from xgboost import XGBClassifier\n",
    "from sklearn.linear_model import LogisticRegression\n",
    "import torch\n",
    "from sklearn.neural_network import MLPClassifier\n",
    "from sklearn.metrics import accuracy_score\n",
    "from sklearn.metrics import classification_report\n",
    "import matplotlib.pyplot as plt\n",
    "from sklearn.model_selection import learning_curve\n",
    "from sklearn.ensemble import RandomForestClassifier\n",
    "import string\n",
    "from scipy.sparse import csr_matrix\n",
    "from sklearn.decomposition import TruncatedSVD\n",
    "from models import main_cnn\n",
    "from scikitplot.estimators import plot_learning_curve\n",
    "import warnings"
   ]
  },
  {
   "cell_type": "markdown",
   "id": "71c392fc",
   "metadata": {},
   "source": [
    "We provide the following dataset (ASSIGNMENT_2.csv):\n",
    "    \n",
    "| Composition title | Composition Writers | Recording Title | Recording Writes |Action |\n",
    "| --- | --- |--- | --- |--- |\n",
    "| Yellow submarine | Leo Ouha |Yellow submarine(remix) |Leo Ouha |Leo Ouha |ACCEPTED |\n",
    "| Shape of you | Ed Sheeran| Anaconda | Mick George | Roco Selto |Leo REJECTED |\n",
    "\n",
    "\n",
    "Train an ML/DL model for pair matching of compositions and recordings.\n",
    "Report and evaluate the results."
   ]
  },
  {
   "cell_type": "code",
   "execution_count": 2,
   "id": "338cf951",
   "metadata": {},
   "outputs": [],
   "source": [
    "warnings.filterwarnings(\"ignore\")"
   ]
  },
  {
   "cell_type": "code",
   "execution_count": 3,
   "id": "cfa3208b",
   "metadata": {},
   "outputs": [],
   "source": [
    "input_dataset = pd.read_csv(\"dataset/ASSIGNMENT_2.csv\")"
   ]
  },
  {
   "cell_type": "code",
   "execution_count": 4,
   "id": "039599c7",
   "metadata": {},
   "outputs": [
    {
     "name": "stdout",
     "output_type": "stream",
     "text": [
      "['rejected' 'accepted' 'no decision' 'no_decision']\n"
     ]
    }
   ],
   "source": [
    "input_dataset = input_dataset.drop_duplicates().dropna()\n",
    "\n",
    "for col in list(input_dataset.columns):\n",
    "    input_dataset.loc[:, col] = input_dataset.loc[:, col].apply(lambda x: x.lower())\n",
    "\n",
    "print(input_dataset[\"Action\"].str.lower().unique())"
   ]
  },
  {
   "cell_type": "code",
   "execution_count": 5,
   "id": "35b325cd",
   "metadata": {},
   "outputs": [],
   "source": [
    "input_dataset.loc[input_dataset[\"Action\"] == 'no decision', \"Action\"] = \"no_decision\""
   ]
  },
  {
   "cell_type": "code",
   "execution_count": 6,
   "id": "ac5fa250",
   "metadata": {},
   "outputs": [],
   "source": [
    "input_dataset = input_dataset.loc[input_dataset[\"Action\"]!=\"no_decision\", :]\n",
    "# we drop the rows with \"no decision\" label since they don't offer us any information \n",
    "# wether we have a match or not."
   ]
  },
  {
   "cell_type": "code",
   "execution_count": 7,
   "id": "e358b9f0",
   "metadata": {},
   "outputs": [
    {
     "name": "stdout",
     "output_type": "stream",
     "text": [
      "Counter({0: 1485, 1: 522})\n"
     ]
    }
   ],
   "source": [
    "labelizer = LabelEncoder()\n",
    "lb_res = labelizer.fit_transform(input_dataset.loc[:, \"Action\"])\n",
    "\n",
    "input_dataset.loc[:, \"Action\"]= lb_res\n",
    "print(Counter(input_dataset[\"Action\"]))"
   ]
  },
  {
   "cell_type": "markdown",
   "id": "239eb29d",
   "metadata": {},
   "source": [
    "In this kind of task we have to keep stopwords and punctuation it is important on these kind of texts (just like sentiment analysis)"
   ]
  },
  {
   "cell_type": "markdown",
   "id": "06958870",
   "metadata": {},
   "source": [
    "For starters we need to create a baseline to beat. So we could do a first run with a simple logistic regression and\n",
    "an XGBoost"
   ]
  },
  {
   "cell_type": "code",
   "execution_count": 8,
   "id": "6eeb372a",
   "metadata": {},
   "outputs": [
    {
     "data": {
      "text/html": [
       "<div>\n",
       "<style scoped>\n",
       "    .dataframe tbody tr th:only-of-type {\n",
       "        vertical-align: middle;\n",
       "    }\n",
       "\n",
       "    .dataframe tbody tr th {\n",
       "        vertical-align: top;\n",
       "    }\n",
       "\n",
       "    .dataframe thead th {\n",
       "        text-align: right;\n",
       "    }\n",
       "</style>\n",
       "<table border=\"1\" class=\"dataframe\">\n",
       "  <thead>\n",
       "    <tr style=\"text-align: right;\">\n",
       "      <th></th>\n",
       "      <th>Composition Title</th>\n",
       "      <th>Composition Writers</th>\n",
       "      <th>Recording Title</th>\n",
       "      <th>Recording Writers</th>\n",
       "      <th>Recording Artist</th>\n",
       "      <th>Action</th>\n",
       "    </tr>\n",
       "  </thead>\n",
       "  <tbody>\n",
       "    <tr>\n",
       "      <th>0</th>\n",
       "      <td>kokaina</td>\n",
       "      <td>yassine baybah|daniel dlouhy</td>\n",
       "      <td>kokaina</td>\n",
       "      <td>a baybah c dlouhy</td>\n",
       "      <td>miami yacine</td>\n",
       "      <td>1</td>\n",
       "    </tr>\n",
       "    <tr>\n",
       "      <th>1</th>\n",
       "      <td>por estar contigo</td>\n",
       "      <td>martinez escamilla,felipe de jesus</td>\n",
       "      <td>estar contigo</td>\n",
       "      <td>martinez de ubago rodriguez  alejandro</td>\n",
       "      <td>alex, jorge y lena</td>\n",
       "      <td>1</td>\n",
       "    </tr>\n",
       "  </tbody>\n",
       "</table>\n",
       "</div>"
      ],
      "text/plain": [
       "   Composition Title                 Composition Writers Recording Title  \\\n",
       "0            kokaina        yassine baybah|daniel dlouhy         kokaina   \n",
       "1  por estar contigo  martinez escamilla,felipe de jesus   estar contigo   \n",
       "\n",
       "                        Recording Writers    Recording Artist  Action  \n",
       "0                       a baybah c dlouhy        miami yacine       1  \n",
       "1  martinez de ubago rodriguez  alejandro  alex, jorge y lena       1  "
      ]
     },
     "execution_count": 8,
     "metadata": {},
     "output_type": "execute_result"
    }
   ],
   "source": [
    "input_dataset.head(2)"
   ]
  },
  {
   "cell_type": "markdown",
   "id": "e0aba437",
   "metadata": {},
   "source": [
    "In order to run any kind of machine learning model, we need to transform the features into tf-idf vectors.\n",
    "\n",
    "If we had more data i would've trained embeddings from the dataset."
   ]
  },
  {
   "cell_type": "code",
   "execution_count": 9,
   "id": "ec65d100",
   "metadata": {},
   "outputs": [],
   "source": [
    "feature_cols = list(input_dataset.loc[:, input_dataset.columns!=\"Action\"].columns)"
   ]
  },
  {
   "cell_type": "code",
   "execution_count": 10,
   "id": "8d6742f5",
   "metadata": {},
   "outputs": [
    {
     "data": {
      "text/html": [
       "<div>\n",
       "<style scoped>\n",
       "    .dataframe tbody tr th:only-of-type {\n",
       "        vertical-align: middle;\n",
       "    }\n",
       "\n",
       "    .dataframe tbody tr th {\n",
       "        vertical-align: top;\n",
       "    }\n",
       "\n",
       "    .dataframe thead th {\n",
       "        text-align: right;\n",
       "    }\n",
       "</style>\n",
       "<table border=\"1\" class=\"dataframe\">\n",
       "  <thead>\n",
       "    <tr style=\"text-align: right;\">\n",
       "      <th></th>\n",
       "      <th>Composition Title</th>\n",
       "      <th>Composition Writers</th>\n",
       "      <th>Recording Title</th>\n",
       "      <th>Recording Writers</th>\n",
       "      <th>Recording Artist</th>\n",
       "    </tr>\n",
       "  </thead>\n",
       "  <tbody>\n",
       "    <tr>\n",
       "      <th>count</th>\n",
       "      <td>2007</td>\n",
       "      <td>2007</td>\n",
       "      <td>2007</td>\n",
       "      <td>2007</td>\n",
       "      <td>2007</td>\n",
       "    </tr>\n",
       "    <tr>\n",
       "      <th>unique</th>\n",
       "      <td>1802</td>\n",
       "      <td>1835</td>\n",
       "      <td>1897</td>\n",
       "      <td>1812</td>\n",
       "      <td>1660</td>\n",
       "    </tr>\n",
       "    <tr>\n",
       "      <th>top</th>\n",
       "      <td>flower of scotland</td>\n",
       "      <td>roy murdoch buchanan williamson</td>\n",
       "      <td>flower of scotland</td>\n",
       "      <td>traditional</td>\n",
       "      <td>various artists</td>\n",
       "    </tr>\n",
       "    <tr>\n",
       "      <th>freq</th>\n",
       "      <td>9</td>\n",
       "      <td>9</td>\n",
       "      <td>9</td>\n",
       "      <td>13</td>\n",
       "      <td>9</td>\n",
       "    </tr>\n",
       "  </tbody>\n",
       "</table>\n",
       "</div>"
      ],
      "text/plain": [
       "         Composition Title              Composition Writers  \\\n",
       "count                 2007                             2007   \n",
       "unique                1802                             1835   \n",
       "top     flower of scotland  roy murdoch buchanan williamson   \n",
       "freq                     9                                9   \n",
       "\n",
       "           Recording Title Recording Writers Recording Artist  \n",
       "count                 2007              2007             2007  \n",
       "unique                1897              1812             1660  \n",
       "top     flower of scotland       traditional  various artists  \n",
       "freq                     9                13                9  "
      ]
     },
     "execution_count": 10,
     "metadata": {},
     "output_type": "execute_result"
    }
   ],
   "source": [
    "input_dataset.loc[:, feature_cols].describe()"
   ]
  },
  {
   "cell_type": "markdown",
   "id": "8dd4fe67",
   "metadata": {},
   "source": [
    "We want to remove punctuation since we know that when we concatenate the dataset and make all the features into sentences.\n",
    "The punctuation wont matter anymore. Since it is not important for our matching purposes"
   ]
  },
  {
   "cell_type": "code",
   "execution_count": 11,
   "id": "ca207eca",
   "metadata": {},
   "outputs": [],
   "source": [
    "for col in input_dataset.columns:\n",
    "    if col!=\"Action\":\n",
    "        input_dataset.loc[:, col] = input_dataset.loc[:, col].apply(lambda x: x.translate(str.maketrans('', '', string.punctuation)))"
   ]
  },
  {
   "cell_type": "code",
   "execution_count": 12,
   "id": "1dde2068",
   "metadata": {},
   "outputs": [],
   "source": [
    "vectorizer = TfidfVectorizer(analyzer='word')\n",
    "\n",
    "input_dataset.loc[:, feature_cols[0]] =  input_dataset.loc[:, feature_cols[1:]].apply(lambda x: \",\".join(x), axis=1)\n",
    "\n",
    "input_dataset = pd.DataFrame(input_dataset.loc[:, feature_cols[0]])"
   ]
  },
  {
   "cell_type": "markdown",
   "id": "dffba800",
   "metadata": {},
   "source": [
    "Train test split and tf-idf vectorization "
   ]
  },
  {
   "cell_type": "code",
   "execution_count": 13,
   "id": "ce49a8e8",
   "metadata": {},
   "outputs": [],
   "source": [
    "X_train, X_test, y_train, y_test = train_test_split(input_dataset, lb_res, shuffle=True, random_state=42, test_size=0.2)\n",
    "\n",
    "X_train  = vectorizer.fit_transform(X_train.iloc[:,0])\n",
    "X_test = vectorizer.transform(X_test.iloc[:, 0])"
   ]
  },
  {
   "cell_type": "code",
   "execution_count": 14,
   "id": "ddf2439e",
   "metadata": {},
   "outputs": [],
   "source": [
    "X_train = csr_matrix(X_train)\n",
    "svd = TruncatedSVD(n_components=100, n_iter=7, random_state=42)\n",
    "X_train = svd.fit_transform(X_train)\n",
    "\n",
    "X_test = csr_matrix(X_test)\n",
    "X_test = svd.fit_transform(X_test)"
   ]
  },
  {
   "cell_type": "code",
   "execution_count": 15,
   "id": "7f9ce31f",
   "metadata": {},
   "outputs": [
    {
     "data": {
      "text/plain": [
       "(1605, 100)"
      ]
     },
     "execution_count": 15,
     "metadata": {},
     "output_type": "execute_result"
    }
   ],
   "source": [
    "X_train.shape"
   ]
  },
  {
   "cell_type": "markdown",
   "id": "96954697",
   "metadata": {},
   "source": [
    "The application of SVD was important here since the sparsity of those matrices \n",
    "was substancial."
   ]
  },
  {
   "cell_type": "code",
   "execution_count": 16,
   "id": "455043e0",
   "metadata": {},
   "outputs": [],
   "source": [
    "def get_results(ftt, f_test_t, y_tn, y_ts, classifier):\n",
    "    print(\"value\")\n",
    "    # train the model\n",
    "    classifier.fit(ftt, y_tn)\n",
    "    print(\"classifier accuracy {:.2f}%\".format(classifier.score(f_test_t, y_ts) * 100))\n",
    "    # even though ACCURACY IS NOT A RELIABLE METRIC HERE we have to include it in our sets of metrics.\n",
    "    labels = classifier.predict(f_test_t)\n",
    "    actual = y_ts\n",
    "    predicted = labels\n",
    "    results = confusion_matrix(actual, predicted)\n",
    "    print('Confusion Matrix :')\n",
    "    print(results)\n",
    "    print('Accuracy Score :', accuracy_score(actual, predicted))\n",
    "    print('Report : ')\n",
    "    print(classification_report(actual, predicted))\n",
    "    score_2 = f1_score(actual, predicted, average='macro')\n",
    "    print('F-Measure: %.3f' % score_2)\n",
    "    return classifier"
   ]
  },
  {
   "cell_type": "markdown",
   "id": "d6b9f4f2",
   "metadata": {},
   "source": [
    "In order to proceed with more sofisticated solutions we need to enstablish a baseline first.\n",
    "\n",
    "The linear Regression is a good start for that purpose"
   ]
  },
  {
   "cell_type": "markdown",
   "id": "cfa571a6",
   "metadata": {},
   "source": [
    "# Linear Regression "
   ]
  },
  {
   "cell_type": "code",
   "execution_count": 17,
   "id": "5cf513e8",
   "metadata": {},
   "outputs": [],
   "source": [
    "lr = LogisticRegression(random_state=42)"
   ]
  },
  {
   "cell_type": "code",
   "execution_count": 18,
   "id": "59f73779",
   "metadata": {},
   "outputs": [
    {
     "data": {
      "text/plain": [
       "<AxesSubplot:title={'center':'Learning Curve'}, xlabel='Training examples', ylabel='Score'>"
      ]
     },
     "execution_count": 18,
     "metadata": {},
     "output_type": "execute_result"
    },
    {
     "data": {
      "image/png": "[encoded data removed]",
      "text/plain": [
       "<Figure size 432x288 with 1 Axes>"
      ]
     },
     "metadata": {
      "needs_background": "light"
     },
     "output_type": "display_data"
    }
   ],
   "source": [
    "plot_learning_curve(lr, X=X_train, y=y_train, scoring='f1_macro')"
   ]
  },
  {
   "cell_type": "code",
   "execution_count": 19,
   "id": "0d4dfc83",
   "metadata": {},
   "outputs": [
    {
     "name": "stdout",
     "output_type": "stream",
     "text": [
      "value\n",
      "classifier accuracy 70.65%\n",
      "Confusion Matrix :\n",
      "[[277   9]\n",
      " [109   7]]\n",
      "Accuracy Score : 0.7064676616915423\n",
      "Report : \n",
      "              precision    recall  f1-score   support\n",
      "\n",
      "           0       0.72      0.97      0.82       286\n",
      "           1       0.44      0.06      0.11       116\n",
      "\n",
      "    accuracy                           0.71       402\n",
      "   macro avg       0.58      0.51      0.47       402\n",
      "weighted avg       0.64      0.71      0.62       402\n",
      "\n",
      "F-Measure: 0.465\n"
     ]
    },
    {
     "data": {
      "text/plain": [
       "LogisticRegression(random_state=42)"
      ]
     },
     "execution_count": 19,
     "metadata": {},
     "output_type": "execute_result"
    }
   ],
   "source": [
    "get_results(X_train, X_test,y_train, y_test, lr)"
   ]
  },
  {
   "cell_type": "markdown",
   "id": "5a89dceb",
   "metadata": {},
   "source": [
    "# Random Forest Classifier #"
   ]
  },
  {
   "cell_type": "code",
   "execution_count": 20,
   "id": "9397ac64",
   "metadata": {},
   "outputs": [],
   "source": [
    "rf = RandomForestClassifier(random_state=42)"
   ]
  },
  {
   "cell_type": "code",
   "execution_count": 21,
   "id": "fb79d87e",
   "metadata": {},
   "outputs": [
    {
     "data": {
      "text/plain": [
       "<AxesSubplot:title={'center':'Learning Curve'}, xlabel='Training examples', ylabel='Score'>"
      ]
     },
     "execution_count": 21,
     "metadata": {},
     "output_type": "execute_result"
    },
    {
     "data": {
      "image/png": "[encoded data removed]",
      "text/plain": [
       "<Figure size 432x288 with 1 Axes>"
      ]
     },
     "metadata": {
      "needs_background": "light"
     },
     "output_type": "display_data"
    }
   ],
   "source": [
    "plot_learning_curve(rf, X_train, y_train, scoring='f1_macro')"
   ]
  },
  {
   "cell_type": "code",
   "execution_count": 22,
   "id": "5d4c1b82",
   "metadata": {},
   "outputs": [
    {
     "name": "stdout",
     "output_type": "stream",
     "text": [
      "value\n",
      "classifier accuracy 66.42%\n",
      "Confusion Matrix :\n",
      "[[245  41]\n",
      " [ 94  22]]\n",
      "Accuracy Score : 0.664179104477612\n",
      "Report : \n",
      "              precision    recall  f1-score   support\n",
      "\n",
      "           0       0.72      0.86      0.78       286\n",
      "           1       0.35      0.19      0.25       116\n",
      "\n",
      "    accuracy                           0.66       402\n",
      "   macro avg       0.54      0.52      0.51       402\n",
      "weighted avg       0.61      0.66      0.63       402\n",
      "\n",
      "F-Measure: 0.515\n"
     ]
    },
    {
     "data": {
      "text/plain": [
       "RandomForestClassifier(random_state=42)"
      ]
     },
     "execution_count": 22,
     "metadata": {},
     "output_type": "execute_result"
    }
   ],
   "source": [
    "get_results(X_train, X_test,y_train, y_test, rf)"
   ]
  },
  {
   "cell_type": "markdown",
   "id": "43b69912",
   "metadata": {},
   "source": [
    "# XGBoost classfier"
   ]
  },
  {
   "cell_type": "code",
   "execution_count": 23,
   "id": "fe1b517e",
   "metadata": {
    "scrolled": false
   },
   "outputs": [],
   "source": [
    "xgb = XGBClassifier(random_state=42, max_depth=7, min_child_weight=5, n_estimators=100, eval_metric=\"logloss\")"
   ]
  },
  {
   "cell_type": "code",
   "execution_count": 24,
   "id": "8163987f",
   "metadata": {},
   "outputs": [
    {
     "data": {
      "text/plain": [
       "<AxesSubplot:title={'center':'Learning Curve'}, xlabel='Training examples', ylabel='Score'>"
      ]
     },
     "execution_count": 24,
     "metadata": {},
     "output_type": "execute_result"
    },
    {
     "data": {
      "image/png": "[encoded data removed]",
      "text/plain": [
       "<Figure size 432x288 with 1 Axes>"
      ]
     },
     "metadata": {
      "needs_background": "light"
     },
     "output_type": "display_data"
    }
   ],
   "source": [
    "plot_learning_curve(xgb, X_train, y_train, scoring='f1_macro')"
   ]
  },
  {
   "cell_type": "code",
   "execution_count": 25,
   "id": "6b7eabc5",
   "metadata": {},
   "outputs": [
    {
     "name": "stdout",
     "output_type": "stream",
     "text": [
      "value\n",
      "classifier accuracy 64.93%\n",
      "Confusion Matrix :\n",
      "[[226  60]\n",
      " [ 81  35]]\n",
      "Accuracy Score : 0.6492537313432836\n",
      "Report : \n",
      "              precision    recall  f1-score   support\n",
      "\n",
      "           0       0.74      0.79      0.76       286\n",
      "           1       0.37      0.30      0.33       116\n",
      "\n",
      "    accuracy                           0.65       402\n",
      "   macro avg       0.55      0.55      0.55       402\n",
      "weighted avg       0.63      0.65      0.64       402\n",
      "\n",
      "F-Measure: 0.547\n"
     ]
    },
    {
     "data": {
      "text/plain": [
       "XGBClassifier(base_score=0.5, booster='gbtree', colsample_bylevel=1,\n",
       "              colsample_bynode=1, colsample_bytree=1, eval_metric='logloss',\n",
       "              gamma=0, gpu_id=-1, importance_type='gain',\n",
       "              interaction_constraints='', learning_rate=0.300000012,\n",
       "              max_delta_step=0, max_depth=7, min_child_weight=5, missing=nan,\n",
       "              monotone_constraints='()', n_estimators=100, n_jobs=8,\n",
       "              num_parallel_tree=1, random_state=42, reg_alpha=0, reg_lambda=1,\n",
       "              scale_pos_weight=1, subsample=1, tree_method='exact',\n",
       "              validate_parameters=1, verbosity=None)"
      ]
     },
     "execution_count": 25,
     "metadata": {},
     "output_type": "execute_result"
    }
   ],
   "source": [
    "get_results(X_train, X_test,y_train, y_test, xgb)"
   ]
  },
  {
   "cell_type": "markdown",
   "id": "f7185399",
   "metadata": {},
   "source": [
    "# Multilayer Perceptron"
   ]
  },
  {
   "cell_type": "code",
   "execution_count": 26,
   "id": "86cf8523",
   "metadata": {},
   "outputs": [],
   "source": [
    "mlp = MLPClassifier(random_state=42, activation='tanh', hidden_layer_sizes=(5, 150))"
   ]
  },
  {
   "cell_type": "code",
   "execution_count": 27,
   "id": "3a844b03",
   "metadata": {},
   "outputs": [
    {
     "data": {
      "text/plain": [
       "<AxesSubplot:title={'center':'(0.1, 1.01)'}, xlabel='Training examples', ylabel='Score'>"
      ]
     },
     "execution_count": 27,
     "metadata": {},
     "output_type": "execute_result"
    },
    {
     "data": {
      "image/png": "[encoded data removed]",
      "text/plain": [
       "<Figure size 432x288 with 1 Axes>"
      ]
     },
     "metadata": {
      "needs_background": "light"
     },
     "output_type": "display_data"
    }
   ],
   "source": [
    "plot_learning_curve(mlp, X_train, y_train, (0.1, 1.01), n_jobs=-1, scoring='f1_macro')"
   ]
  },
  {
   "cell_type": "code",
   "execution_count": 28,
   "id": "8520cdd9",
   "metadata": {},
   "outputs": [
    {
     "name": "stdout",
     "output_type": "stream",
     "text": [
      "value\n",
      "classifier accuracy 67.91%\n",
      "Confusion Matrix :\n",
      "[[243  43]\n",
      " [ 86  30]]\n",
      "Accuracy Score : 0.6791044776119403\n",
      "Report : \n",
      "              precision    recall  f1-score   support\n",
      "\n",
      "           0       0.74      0.85      0.79       286\n",
      "           1       0.41      0.26      0.32       116\n",
      "\n",
      "    accuracy                           0.68       402\n",
      "   macro avg       0.57      0.55      0.55       402\n",
      "weighted avg       0.64      0.68      0.65       402\n",
      "\n",
      "F-Measure: 0.554\n"
     ]
    },
    {
     "data": {
      "text/plain": [
       "MLPClassifier(activation='tanh', hidden_layer_sizes=(5, 150), random_state=42)"
      ]
     },
     "execution_count": 28,
     "metadata": {},
     "output_type": "execute_result"
    }
   ],
   "source": [
    "get_results(X_train, X_test,y_train, y_test, mlp)"
   ]
  },
  {
   "cell_type": "markdown",
   "id": "5b92b54d",
   "metadata": {},
   "source": [
    "Given that we achieve low scores especially on the precision of class rejected (which makes sense because so far we have majority classifiers of class accepted)."
   ]
  },
  {
   "cell_type": "markdown",
   "id": "1ac10885",
   "metadata": {},
   "source": [
    "# DNN approach "
   ]
  },
  {
   "cell_type": "markdown",
   "id": "b3cac1d4",
   "metadata": {},
   "source": [
    "We applied dimentionality reduction in the same manner as the previous models"
   ]
  },
  {
   "cell_type": "code",
   "execution_count": 29,
   "id": "65e8dcfd",
   "metadata": {},
   "outputs": [
    {
     "name": "stderr",
     "output_type": "stream",
     "text": [
      "/home/dlolis/Desktop/assignment/assignment_of/lib/python3.8/site-packages/sklearn/neural_network/_multilayer_perceptron.py:692: ConvergenceWarning: Stochastic Optimizer: Maximum iterations (200) reached and the optimization hasn't converged yet.\n",
      "  warnings.warn(\n",
      "/home/dlolis/Desktop/assignment/assignment_of/lib/python3.8/site-packages/sklearn/neural_network/_multilayer_perceptron.py:692: ConvergenceWarning: Stochastic Optimizer: Maximum iterations (200) reached and the optimization hasn't converged yet.\n",
      "  warnings.warn(\n",
      "/home/dlolis/Desktop/assignment/assignment_of/lib/python3.8/site-packages/sklearn/neural_network/_multilayer_perceptron.py:692: ConvergenceWarning: Stochastic Optimizer: Maximum iterations (200) reached and the optimization hasn't converged yet.\n",
      "  warnings.warn(\n",
      "/home/dlolis/Desktop/assignment/assignment_of/lib/python3.8/site-packages/sklearn/neural_network/_multilayer_perceptron.py:692: ConvergenceWarning: Stochastic Optimizer: Maximum iterations (200) reached and the optimization hasn't converged yet.\n",
      "  warnings.warn(\n",
      "/home/dlolis/Desktop/assignment/assignment_of/lib/python3.8/site-packages/sklearn/neural_network/_multilayer_perceptron.py:692: ConvergenceWarning: Stochastic Optimizer: Maximum iterations (200) reached and the optimization hasn't converged yet.\n",
      "  warnings.warn(\n",
      "/home/dlolis/Desktop/assignment/assignment_of/lib/python3.8/site-packages/sklearn/neural_network/_multilayer_perceptron.py:692: ConvergenceWarning: Stochastic Optimizer: Maximum iterations (200) reached and the optimization hasn't converged yet.\n",
      "  warnings.warn(\n",
      "/home/dlolis/Desktop/assignment/assignment_of/lib/python3.8/site-packages/sklearn/neural_network/_multilayer_perceptron.py:692: ConvergenceWarning: Stochastic Optimizer: Maximum iterations (200) reached and the optimization hasn't converged yet.\n",
      "  warnings.warn(\n",
      "/home/dlolis/Desktop/assignment/assignment_of/lib/python3.8/site-packages/sklearn/neural_network/_multilayer_perceptron.py:692: ConvergenceWarning: Stochastic Optimizer: Maximum iterations (200) reached and the optimization hasn't converged yet.\n",
      "  warnings.warn(\n",
      "/home/dlolis/Desktop/assignment/assignment_of/lib/python3.8/site-packages/sklearn/neural_network/_multilayer_perceptron.py:692: ConvergenceWarning: Stochastic Optimizer: Maximum iterations (200) reached and the optimization hasn't converged yet.\n",
      "  warnings.warn(\n",
      "/home/dlolis/Desktop/assignment/assignment_of/lib/python3.8/site-packages/sklearn/neural_network/_multilayer_perceptron.py:692: ConvergenceWarning: Stochastic Optimizer: Maximum iterations (200) reached and the optimization hasn't converged yet.\n",
      "  warnings.warn(\n"
     ]
    },
    {
     "name": "stdout",
     "output_type": "stream",
     "text": [
      "best evaluation scores are on 0.4406059799378048 198\n",
      "best model loss score is 0.5948562026023865 on 199 epoch\n"
     ]
    }
   ],
   "source": [
    "train_scores, eval_scores, train_losses, eval_losses = main_cnn((input_dataset, lb_res))"
   ]
  },
  {
   "cell_type": "code",
   "execution_count": 30,
   "id": "20d0546b",
   "metadata": {},
   "outputs": [
    {
     "data": {
      "image/png": "[encoded data removed]",
      "text/plain": [
       "<Figure size 720x360 with 1 Axes>"
      ]
     },
     "metadata": {
      "needs_background": "light"
     },
     "output_type": "display_data"
    },
    {
     "data": {
      "image/png": "[encoded data removed]",
      "text/plain": [
       "<Figure size 720x360 with 1 Axes>"
      ]
     },
     "metadata": {
      "needs_background": "light"
     },
     "output_type": "display_data"
    }
   ],
   "source": [
    "plt.figure(figsize=(10, 5))\n",
    "plt.title(\"losses\")\n",
    "plt.plot(train_losses, label=\"train\")\n",
    "plt.plot(eval_losses, label=\"validation\")\n",
    "plt.legend(loc=\"upper left\")\n",
    "\n",
    "plt.show()\n",
    "\n",
    "plt.figure(figsize=(10, 5))\n",
    "plt.title(\"scores\")\n",
    "plt.plot(train_scores, label=\"train\")\n",
    "plt.plot(eval_scores, label=\"validation\")\n",
    "plt.legend(loc=\"upper left\")\n",
    "\n",
    "plt.show()"
   ]
  },
  {
   "cell_type": "markdown",
   "id": "0bcfa3c8",
   "metadata": {},
   "source": [
    "# Conclusions"
   ]
  },
  {
   "cell_type": "markdown",
   "id": "86639b3c",
   "metadata": {},
   "source": [
    "### Traditional Algorithms with tf-idf approach ###\n",
    "\n",
    "\n",
    "The *traditional* machine learning algorithms that were used on this assignment (logistic regression, random forest, XGBoost classifier, MLP), as the curves of the models suggest (increasing training size, minuscule increase of score) the models cannot interpret the features in meaningfull manner (even though it should). \n"
   ]
  },
  {
   "cell_type": "markdown",
   "id": "540427f8",
   "metadata": {},
   "source": [
    "### The CNN approach with tf-idf ###\n",
    "\n",
    "\n",
    "In such a small dataset a DNN couldn't possibly outperform a traditional machine learning approach. But in order to have the complete picture of the solution for this problem i had to create and tune it."
   ]
  },
  {
   "cell_type": "markdown",
   "id": "caba763a",
   "metadata": {},
   "source": [
    "### Custom features needed ###\n",
    "\n",
    "In order to get more meaningful results it is of paramount importance to change our features to be able to recognize matches (even with aliases) in Composition and Recording. In this task it would be probably important to get domain knowledge and create artificial input that will be a function of our original such as handcrafted features."
   ]
  },
  {
   "cell_type": "markdown",
   "id": "caa43354",
   "metadata": {},
   "source": [
    "## Possible next step ##\n",
    "\n",
    "#### One Shot Learning ####\n",
    "\n",
    "In this assignment i concatenated all of the fields and created one sentence that contained all of the information needed. Another way this problem could be done is to create two vectors (one for Composition one for Recording) and create Siamese neural networks to compare them. This would require of course more data and an embedding representation of our data, since tf-idf and SVD approach do not seem enough to \"capture\" the essence of our data input.\n"
   ]
  }
 ],
 "metadata": {
  "kernelspec": {
   "display_name": "Python 3",
   "language": "python",
   "name": "python3"
  },
  "language_info": {
   "codemirror_mode": {
    "name": "ipython",
    "version": 3
   },
   "file_extension": ".py",
   "mimetype": "text/x-python",
   "name": "python",
   "nbconvert_exporter": "python",
   "pygments_lexer": "ipython3",
   "version": "3.8.12"
  }
 },
 "nbformat": 4,
 "nbformat_minor": 5
}
